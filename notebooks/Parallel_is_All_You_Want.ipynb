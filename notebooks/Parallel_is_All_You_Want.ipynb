{
 "cells": [
  {
   "cell_type": "markdown",
   "metadata": {
    "id": "vZ9z9-sX60Ct"
   },
   "source": [
    "# Parallel is All You Want: Combining Spatial and Temporal Feature Representions of Speech Emotion by Parallelizing CNNs and Transformer-Encoders\n",
    "# Abstract\n",
    "In this notebook, I'm going to build upon my [Intro to Speech Audio Classification repo](https://github.com/IliaZenkov/sklearn-audio-classification) and build two parallel convolutional neural networks (CNN) in parallel with a Transformer encoder network to classify audio data. We're working on the [RAVDESS dataset](https://smartlaboratory.org/ravdess/) to classify emotions from one of 8 classes. We combine the CNN for spatial feature representation and the Transformer for temporal feature representation. We augment the training data by increasing variation in the dataset to reduce overfitting; we use Additive White Gaussian Noise (AWGN) to augment the RAVDESS dataset three-fold for a total of 4320 audio samples.\n",
    "\n",
    "We harness the image-classification and spatial feature representation power of the CNN by treating MFCC plots as grayscale images; their width is a time scale, their height is a frequency scale. The value of each pixel in the MFCC is the intensity of the audio signal at a particular range of mel frequencies at a time step. \n",
    "\n",
    "Because of the sequential nature of the data, we will also use the Transformer to try and model as accurately as possible the temporal relationships between pitch transitions in emotions.  \n",
    "\n",
    "This notebook takes inspirations from a variety of recent advances in deep learning and network architectures; in particular, stacked and parallel CNN networks combined with multi-head self-attention layers from the Transformer Encoder. I hypothesize that the expansion of CNN filter channel dimensions and reduction of feature maps will provide the most expressive feature representation at the lowest computational cost, while the Transformer-Encoder is used with the hypothesis that the network will learn to predict frequency distributions of different emotions according to the global structure of the MFCC plot (and indirectly, mel spectrogram) of each emotion. **With the strength of the CNN in spatial feature representation and Transformer in sequence encoding, I manage to achieve an 80.44% accuracy on a hold-out test set from the RAVDESS dataset.**\n",
    "\n",
    "<!--TABLE OF CONTENTS-->\n",
    "# Table of Contents\n",
    "- [Introduction](#Introduction)\n",
    "  - [Define Features](#Define-features)\n",
    "  - [Load Data and Extract Features](#Load-Data-and-Extract-Features)\n",
    "  - [Split into Train/Validation/Test Sets](#Split-into-Train/Validation/Test-Sets)\n",
    "  - [Augmenting the Data with AWGN: Additive White Gaussian Noise](#Augmenting-the-Data-with-AWGN---Additive-White-Gaussian-Noise)\n",
    "  - [Format Data into Tensor-Ready 4D Arrays](#Format-Data-into-Tensor-Ready-4D-Arrays)\n",
    "  - [Feature Scaling](#Feature-Scaling)\n",
    "  - [Save and Reload Data as NumPy Arrays](#Save-and-Reload-Data-as-NumPy-Arrays)\n",
    "- [Architecture Overview](#Architecture-Overview)\n",
    "- [CNN Motivation](#CNN-Motivation)\n",
    "- [Transformer-Encoder Motivation](#Transformer-Encoder-Motivation)\n",
    "- [Building Model Architecture and Forward Pass](#Build-Model-Architecture-and-Define-Forward-Pass)\n",
    "  - [Analyzing The Flow of Tensors Through the Network](#Analyzing-The-Flow-of-Tensors-Through-the-Network)\n",
    "  - [Choosing Loss Function](#Define-Loss/Criterion)\n",
    "  - [Choosing Optimizer](#Choose-Optimizer)\n",
    "  - [Build Training Step](#Define-Training-Step)\n",
    "  - [Build Validation Step](#Define-Validation-Step)\n",
    "  - [Make Checkpoint Functions](#Make-Checkpoint-Functions)\n",
    "- [Build Training Loop](#Build-Training-Loop)\n",
    "  - [Train Model](#Train-Model)\n",
    "- [Check the Loss Curve's Behaviour](#Check-the-Loss-Curve's-Behaviour)\n",
    "- [Evaluate Performance on Test Set](#Evaluate-the-Model-on-Hold-Out-Test-Set)\n",
    "- [Conclusion](#Conclusion)\n",
    "- [References](#References)\n",
    "\n",
    "# Appendices\n",
    "- [Appendix A: Convolutional Neural Nets Dissected](#Appendix-A---Convolutional-Neural-Nets-Dissected)\n",
    "  - [Kernels and Filters](#Kernels-and-Filters)\n",
    "  - [Zero Padding](#Zero-Padding)\n",
    "  - [Max Pooling](#Max-Pooling)\n",
    "  - [Regularization Using Dropout and a note on Pruning](#Regularization-Using-Dropout-and-a-note-on-Pruning)\n",
    "  - [Batch Normalization and Optimizing the Optimization Landsape](#Batch-Normalization-and-Optimizing-the-Optimization-Landsape)\n",
    "  - [ReLU: Non-Saturated Activations are Healthier (for CNNs)](#ReLU---Non-Saturated-Activations-are-Healthier-[for-CNNs])\n",
    "  - [Turning Feature Maps into Probabilities with a Fully Connected Layer](#Turning-Feature-Maps-into-Probabilities-with-a-Fully-Connected-Layer)\n",
    "- [Appendix B: The Transformer](#Appendix-B---The-Transformer)\n",
    "    - [Self-Attention](#Self-Attention)\n",
    "    - [Multi-Head Self-Attention](#Multi-Head-Self-Attention)\n",
    "    - [Transformer Architecture](#Transformer-Architecture)\n",
    "        - [Input](#Input)\n",
    "        - [Encoder](#Encoder)\n",
    "        - [Decoder](#Decoder)\n",
    "        - [Output](#Output)\n",
    "- [Appendix C: From Autoencoders to LSTMs to Attention](#Appendix-C---From-Autoencoders-to-LSTMs-to-Attention)\n",
    "  - [Autoencoders](#Autoencoders)\n",
    "  - [The Sparse Autoencoder](#The-Sparse-Autoencoder)\n",
    "  - [The Variational Autoencoder, Decoders, and Latent Space](#The-Variational-Autoencoder,-Decoders,-and-Latent-Space)\n",
    "  - [The RNN, Seq2Seq, and Gradient Problems](#The-RNN,-Seq2Seq,-and-Gradient-Problems)\n",
    "  - [The LSTM Cell](#The-LSTM-Cell)\n",
    "  - [Bidirectional RNN](#Bidirectional-RNN)\n",
    "  - [The Attention Mechanism](#The-Attention-Mechanism)\n",
    "- [Appendix D: Supplementary Notes](#Appendix-D---Supplementary-Notes)\n",
    "  - [More CNN Kernel/Filter Math](#More-CNN-Kernel/Filter-Math)\n",
    "  - [Smoothing the Optimization Surface](#Smoothing-the-Optimization-Surface)\n",
    "\n",
    "\n",
    "# Introduction\n",
    "From my previous notebook: \"Long-Short-Term-Memory Recurrent Neural Networks (LSTM RNNs) and Convolutional Neural Networks (CNNs) are excellent DNN candidates for audio data classification: LSTM RNNs because of their excellent ability to interpret sequential data such as features of the audio waveform represented as a time series; CNNs because features engineered on audio data such as spectrograms have marked resemblance to images, in which CNNs excel at recognizing and discriminating between distinct patterns.\" - Me \n",
    "\n",
    "I'm going to build on that - CNNs are still the hallmark of image classification today, although even in this domain Transformers are beginning to take the main stage: A [2021 ICLR submission: An Image is Worth 16x16 Words: Transformers for Image Recognition at Scale](https://openreview.net/forum?id=YicbFdNTTy) claims they've implemented a Transformer for image classification that outperforms a state of the art CNN, and at a much lower computational complexity.\n",
    "\n",
    "In addition to taking inspiration from the above, it's also no longer 2015 - so instead of the LSTM-RNN I'm going to implement its successor the Transformer model in parallel with a CNN to try and get state-of-the-art performance on the RAVDESS dataset. \n",
    "\n",
    "Other motivations for the architecture of this model come from a variety of papers from the past few years. **The most notable inspirations are:**\n",
    "- The Transformer: [Attention is All You Need](https://arxiv.org/abs/1706.03762) for the Transformer\n",
    "- Inception and GoogLeNet: [Going Deeper with Convolutions](https://static.googleusercontent.com/media/research.google.com/en//pubs/archive/43022.pdf) for parallel, stacked CNNs\n",
    "- AlexNet: [ImageNet Classification with Deep Convolutional\n",
    "](https://papers.nips.cc/paper/4824-imagenet-classification-with-deep-convolutional-neural-networks.pdf) for increasing the complexity of feature maps with deeper CNN networks, as well as data augmentation by adding modified versions of the training data to itself\n",
    "- VGGNet: [Very Deep Convolutional Networks For Large-Scale Image Recognition](https://arxiv.org/pdf/1409.1556.pdf) for using fixed size kernels throughout stacked CNN layers\n",
    "- LeNet: [Gradient-Based Learning Applied to Document Recognition](http://yann.lecun.com/exdb/publis/pdf/lecun-98.pdf) for the convolution>pool>convolution>pool paradigm\n",
    "- Self-Attention: [Long Short-Term Memory-Networks for Machine Reading](https://arxiv.org/pdf/1601.06733.pdf) for understanding Transformer architecture\n",
    "- Dropout regularization: [Dropout: A Simple Way to Prevent Neural Networks from\n",
    "Overfitting](https://www.cs.toronto.edu/~hinton/absps/JMLRdropout.pdf) speaks for itself\n",
    "- Batch Norm: [Batch Normalization: Accelerating Deep Network Training by Reducing Internal Covariate Shift](https://arxiv.org/abs/1502.03167) speaks for itself\n",
    "\n",
    "Let's get to it."
   ]
  },
  {
   "cell_type": "markdown",
   "metadata": {
    "id": "ExkoPoNs60Cu"
   },
   "source": [
    "#### Setup"
   ]
  },
  {
   "cell_type": "code",
   "execution_count": 1,
   "metadata": {
    "_cell_guid": "b1076dfc-b9ad-4769-8c92-a6c4dae69d19",
    "_uuid": "8f2839f25d086af736a60e9eeb907d3b93b6e0e5",
    "id": "ZcoBEft660Cv"
   },
   "outputs": [],
   "source": [
    "import torch\n",
    "import torch.nn as nn\n",
    "import matplotlib.pyplot as plt\n",
    "import numpy as np\n",
    "import pandas as pd\n",
    "import os, glob\n",
    "import librosa\n",
    "import librosa.display\n",
    "import IPython\n",
    "from IPython.display import Audio\n",
    "from IPython.display import Image\n",
    "import warnings; warnings.filterwarnings('ignore') #matplot lib complains about librosa"
   ]
  },
  {
   "cell_type": "code",
   "execution_count": 2,
   "metadata": {
    "id": "38YJn86i60Cz"
   },
   "outputs": [],
   "source": [
    "#google colab has an old version of librosa with missing mel spectrogram args (for MFCC); upgrade to current\n",
    "#!pip install -U librosa "
   ]
  },
  {
   "cell_type": "code",
   "execution_count": 2,
   "metadata": {
    "colab": {
     "base_uri": "https://localhost:8080/",
     "height": 34
    },
    "id": "wXgX4hsZ60C1",
    "outputId": "69b4373d-455e-4a4b-fb26-0f2d33209a1e"
   },
   "outputs": [
    {
     "name": "stdout",
     "output_type": "stream",
     "text": [
      "Mounted at /content/gdrive\n"
     ]
    }
   ],
   "source": [
    "# needed to import dataset from google drive into colab \n",
    "#from google.colab import drive\n",
    "#drive.mount(\"/content/gdrive\")"
   ]
  },
  {
   "cell_type": "code",
   "execution_count": 3,
   "metadata": {
    "id": "T8GiBMh2CJCR"
   },
   "outputs": [],
   "source": [
    "# copy RAVDESS dataset from gdrive and unzip\n",
    "#!cp '/content/gdrive/My Drive/DL/RAVDESS.zip' .\n",
    "#!unzip -q RAVDESS.zip "
   ]
  },
  {
   "cell_type": "markdown",
   "metadata": {
    "id": "ADgTrt0X60C3"
   },
   "source": [
    "## Define features\n",
    "\n",
    "Define features as in the previous notebook on this task from my ['sklearn-audio-classification' repo](https://github.com/IliaZenkov/sklearn-audio-classification). That notebook explains the motivation behind the Mel Spectrogram and its derivative MFCC, which we use as a feature. In short, we're looking for transitions in audible pitch frequencies. \n",
    "\n",
    "**MFCCs alone provide the best accuracy in this model with training considerations in mind - and provide as good an accuracy as using chromagrams + mel spectrograms + MFCCs. We don't want extra complexity in a highly parameterized deep neural net such as this one** (unless we absolutely need it).\n",
    "\n"
   ]
  },
  {
   "cell_type": "code",
   "execution_count": 4,
   "metadata": {
    "id": "OBZMdi7l60C4"
   },
   "outputs": [],
   "source": [
    "# RAVDESS native sample rate is 48k\n",
    "sample_rate = 48000\n",
    "\n",
    "# Mel Spectrograms are not directly used as a feature in this model\n",
    "# Mel Spectrograms are used in calculating MFCCs, which are a higher-level representation of pitch transition\n",
    "# MFCCs work better - left the mel spectrogram function here in case anyone wants to experiment\n",
    "def feature_melspectrogram(\n",
    "    waveform, \n",
    "    sample_rate,\n",
    "    fft = 1024,\n",
    "    winlen = 512,\n",
    "    window='hamming',\n",
    "    hop=256,\n",
    "    mels=128,\n",
    "    ):\n",
    "    \n",
    "    # Produce the mel spectrogram for all STFT frames and get the mean of each column of the resulting matrix to create a feature array\n",
    "    # Using 8khz as upper frequency bound should be enough for most speech classification tasks\n",
    "    melspectrogram = librosa.feature.melspectrogram(\n",
    "        y=waveform, \n",
    "        sr=sample_rate, \n",
    "        n_fft=fft, \n",
    "        win_length=winlen, \n",
    "        window=window, \n",
    "        hop_length=hop, \n",
    "        n_mels=mels, \n",
    "        fmax=sample_rate/2)\n",
    "    \n",
    "    # convert from power (amplitude**2) to decibels\n",
    "    # necessary for network to learn - doesn't converge with raw power spectrograms \n",
    "    melspectrogram = librosa.power_to_db(melspectrogram, ref=np.max)\n",
    "    \n",
    "    return melspectrogram\n",
    "\n",
    "def feature_mfcc(\n",
    "    waveform, \n",
    "    sample_rate,\n",
    "    n_mfcc = 40,\n",
    "    fft = 1024,\n",
    "    winlen = 512,\n",
    "    window='hamming',\n",
    "    #hop=256, # increases # of time steps; was not helpful\n",
    "    mels=128\n",
    "    ):\n",
    "\n",
    "    # Compute the MFCCs for all STFT frames \n",
    "    # 40 mel filterbanks (n_mfcc) = 40 coefficients\n",
    "    mfc_coefficients=librosa.feature.mfcc(\n",
    "        y=waveform, \n",
    "        sr=sample_rate, \n",
    "        n_mfcc=n_mfcc,\n",
    "        n_fft=fft, \n",
    "        win_length=winlen, \n",
    "        window=window, \n",
    "        #hop_length=hop, \n",
    "        n_mels=mels, \n",
    "        fmax=sample_rate/2\n",
    "        ) \n",
    "\n",
    "    return mfc_coefficients\n",
    "\n",
    "def get_features(waveforms, features, samplerate):\n",
    "\n",
    "    # initialize counter to track progress\n",
    "    file_count = 0\n",
    "\n",
    "    # process each waveform individually to get its MFCCs\n",
    "    for waveform in waveforms:\n",
    "        mfccs = feature_mfcc(waveform, sample_rate)\n",
    "        features.append(mfccs)\n",
    "        file_count += 1\n",
    "        # print progress \n",
    "        print('\\r'+f' Processed {file_count}/{len(waveforms)} waveforms',end='')\n",
    "    \n",
    "    # return all features from list of waveforms\n",
    "    return features\n",
    "\n",
    "def get_waveforms(file):\n",
    "    \n",
    "    # load an individual sample audio file\n",
    "    # read the full 3 seconds of the file, cut off the first 0.5s of silence; native sample rate = 48k\n",
    "    # don't need to store the sample rate that librosa.load returns\n",
    "    waveform, _ = librosa.load(file, duration=3, offset=0.5, sr=sample_rate)\n",
    "    \n",
    "    # make sure waveform vectors are homogenous by defining explicitly\n",
    "    waveform_homo = np.zeros((int(sample_rate*3,)))\n",
    "    waveform_homo[:len(waveform)] = waveform\n",
    "    \n",
    "    # return a single file's waveform                                      \n",
    "    return waveform_homo\n",
    "    \n",
    "# RAVDESS dataset emotions\n",
    "# shift emotions left to be 0 indexed for PyTorch\n",
    "emotions_dict ={\n",
    "    '0':'surprised',\n",
    "    '1':'neutral',\n",
    "    '2':'calm',\n",
    "    '3':'happy',\n",
    "    '4':'sad',\n",
    "    '5':'angry',\n",
    "    '6':'fearful',\n",
    "    '7':'disgust'\n",
    "}\n",
    "\n",
    "# Additional attributes from RAVDESS to play with\n",
    "emotion_attributes = {\n",
    "    '01': 'normal',\n",
    "    '02': 'strong'\n",
    "}"
   ]
  },
  {
   "cell_type": "markdown",
   "metadata": {
    "id": "VoHM-Dh860C6"
   },
   "source": [
    "## Load Data and Extract Features\n",
    "\n",
    "\n",
    "We process each file in the dataset and extract its features.\n",
    "\n",
    "We return the waveforms and the labels (from the file names of the RAVDESS audio samples). We return the raw waveforms because we're going to do some extra processing.\n"
   ]
  },
  {
   "cell_type": "code",
   "execution_count": 5,
   "metadata": {
    "id": "XasJEOjN60C7"
   },
   "outputs": [],
   "source": [
    "# path to data for glob\n",
    "data_path = 'RAVDESS dataset/Actor_*/*.wav'\n",
    "data_path = '/scratch/work/huangg5/ravdess_ser/data/audio_speech/Actor_*/*.wav'\n",
    "\n",
    "def load_data():\n",
    "    # features and labels\n",
    "    emotions = []\n",
    "    # raw waveforms to augment later\n",
    "    waveforms = []\n",
    "    # extra labels\n",
    "    intensities, genders = [],[]\n",
    "    # progress counter\n",
    "    file_count = 0\n",
    "    for file in glob.glob(data_path):\n",
    "        # get file name with labels\n",
    "        file_name = os.path.basename(file)\n",
    "        \n",
    "        # get emotion label from the sample's file\n",
    "        emotion = int(file_name.split(\"-\")[2])\n",
    "\n",
    "        #  move surprise to 0 for cleaner behaviour with PyTorch/0-indexing\n",
    "        if emotion == 8: emotion = 0 # surprise is now at 0 index; other emotion indeces unchanged\n",
    "\n",
    "        # can convert emotion label to emotion string if desired, but\n",
    "        # training on number is better; better convert to emotion string after predictions are ready\n",
    "        # emotion = emotions_dict[str(emotion)]\n",
    "        \n",
    "        # get other labels we might want\n",
    "        intensity = emotion_attributes[file_name.split(\"-\")[3]]\n",
    "        # even actors are female, odd are male\n",
    "        if (int((file_name.split(\"-\")[6]).split(\".\")[0]))%2==0: \n",
    "            gender = 'female' \n",
    "        else: \n",
    "            gender = 'male'\n",
    "            \n",
    "        # get waveform from the sample\n",
    "        waveform = get_waveforms(file)\n",
    "        \n",
    "        # store waveforms and labels\n",
    "        waveforms.append(waveform)\n",
    "        emotions.append(emotion)\n",
    "        intensities.append(intensity) # store intensity in case we wish to predict\n",
    "        genders.append(gender) # store gender in case we wish to predict \n",
    "        \n",
    "        file_count += 1\n",
    "        # keep track of data loader's progress\n",
    "        print('\\r'+f' Processed {file_count}/{1440} audio samples',end='')\n",
    "        \n",
    "    return waveforms, emotions, intensities, genders"
   ]
  },
  {
   "cell_type": "code",
   "execution_count": 6,
   "metadata": {
    "colab": {
     "base_uri": "https://localhost:8080/",
     "height": 34
    },
    "id": "37LrPb2i60C9",
    "outputId": "ae9084c0-1ec5-4f9a-f748-97a8faec2dc8"
   },
   "outputs": [
    {
     "name": "stdout",
     "output_type": "stream",
     "text": [
      " Processed 60/1440 audio samples"
     ]
    }
   ],
   "source": [
    "# load data \n",
    "# init explicitly to prevent data leakage from past sessions, since load_data() appends\n",
    "waveforms, emotions, intensities, genders = [],[],[],[]\n",
    "waveforms, emotions, intensities, genders = load_data()"
   ]
  },
  {
   "cell_type": "markdown",
   "metadata": {
    "id": "PLBp0B-n60DB"
   },
   "source": [
    "## Check extracted audio waveforms and labels:\n"
   ]
  },
  {
   "cell_type": "code",
   "execution_count": 7,
   "metadata": {
    "colab": {
     "base_uri": "https://localhost:8080/",
     "height": 67
    },
    "id": "pjjUpfNm60DC",
    "outputId": "e752e45d-6499-4040-cf0d-2129f8bf09f7"
   },
   "outputs": [
    {
     "name": "stdout",
     "output_type": "stream",
     "text": [
      "Waveforms set: 60 samples\n",
      "Waveform signal length: 144000\n",
      "Emotions set: 60 sample labels\n"
     ]
    }
   ],
   "source": [
    "print(f'Waveforms set: {len(waveforms)} samples')\n",
    "# we have 1440 waveforms but we need to know their length too; should be 3 sec * 48k = 144k\n",
    "print(f'Waveform signal length: {len(waveforms[0])}')\n",
    "print(f'Emotions set: {len(emotions)} sample labels')"
   ]
  },
  {
   "cell_type": "markdown",
   "metadata": {
    "id": "Zkfe5cWQGa-P"
   },
   "source": [
    "Looks good. 1440 samples and 1440 labels in total.\n",
    "\n",
    "**Waveforms are 144k long because 3 seconds * 48k sample rate = 144k length array representing the 3 second audio snippet.**"
   ]
  },
  {
   "cell_type": "markdown",
   "metadata": {
    "id": "UDnnCn8HEOQq"
   },
   "source": [
    "## Split into Train/Validation/Test Sets\n",
    "We'll use an 80/10/10 train/validation/test split to maximize training data and keep a reasonable validation/test set. \n",
    "\n",
    "**We're splitting waveforms so we can process train/validation/test waveforms separately and avoid data leakage.** \n",
    "\n",
    "**Have to take care to split the sets proportionally w.r.t. emotion.**\n",
    "\n",
    "**Yes, we can use sklearn - but to convince myself I've eradicated data leakage issues I did this manually.**"
   ]
  },
  {
   "cell_type": "code",
   "execution_count": 8,
   "metadata": {
    "colab": {
     "base_uri": "https://localhost:8080/",
     "height": 101
    },
    "id": "ofaAetu48YEg",
    "outputId": "9c453120-d1db-4d62-ac2a-02fed87289b7"
   },
   "outputs": [
    {
     "name": "stdout",
     "output_type": "stream",
     "text": [
      "Training waveforms:(45, 144000), y_train:(45,)\n",
      "Validation waveforms:(7, 144000), y_valid:(7,)\n",
      "Test waveforms:(8, 144000), y_test:(8,)\n",
      "\n",
      "Sets are unique: 60 samples out of 60 are unique\n"
     ]
    }
   ],
   "source": [
    "# create storage for train, validation, test sets and their indices\n",
    "train_set,valid_set,test_set = [],[],[]\n",
    "X_train,X_valid,X_test = [],[],[]\n",
    "y_train,y_valid,y_test = [],[],[]\n",
    "\n",
    "# convert waveforms to array for processing\n",
    "waveforms = np.array(waveforms)\n",
    "\n",
    "# process each emotion separately to make sure we builf balanced train/valid/test sets \n",
    "for emotion_num in range(len(emotions_dict)):\n",
    "        \n",
    "    # find all indices of a single unique emotion\n",
    "    emotion_indices = [index for index, emotion in enumerate(emotions) if emotion==emotion_num]\n",
    "\n",
    "    # seed for reproducibility \n",
    "    np.random.seed(69)\n",
    "    # shuffle indicies \n",
    "    emotion_indices = np.random.permutation(emotion_indices)\n",
    "\n",
    "    # store dim (length) of the emotion list to make indices\n",
    "    dim = len(emotion_indices)\n",
    "\n",
    "    # store indices of training, validation and test sets in 80/10/10 proportion\n",
    "    # train set is first 80%\n",
    "    train_indices = emotion_indices[:int(0.8*dim)]\n",
    "    # validation set is next 10% (between 80% and 90%)\n",
    "    valid_indices = emotion_indices[int(0.8*dim):int(0.9*dim)]\n",
    "    # test set is last 10% (between 90% - end/100%)\n",
    "    test_indices = emotion_indices[int(0.9*dim):]\n",
    "\n",
    "    # create train waveforms/labels sets\n",
    "    X_train.append(waveforms[train_indices,:])\n",
    "    y_train.append(np.array([emotion_num]*len(train_indices),dtype=np.int32))\n",
    "    # create validation waveforms/labels sets\n",
    "    X_valid.append(waveforms[valid_indices,:])\n",
    "    y_valid.append(np.array([emotion_num]*len(valid_indices),dtype=np.int32))\n",
    "    # create test waveforms/labels sets\n",
    "    X_test.append(waveforms[test_indices,:])\n",
    "    y_test.append(np.array([emotion_num]*len(test_indices),dtype=np.int32))\n",
    "\n",
    "    # store indices for each emotion set to verify uniqueness between sets \n",
    "    train_set.append(train_indices)\n",
    "    valid_set.append(valid_indices)\n",
    "    test_set.append(test_indices)\n",
    "\n",
    "# concatenate, in order, all waveforms back into one array \n",
    "X_train = np.concatenate(X_train,axis=0)\n",
    "X_valid = np.concatenate(X_valid,axis=0)\n",
    "X_test = np.concatenate(X_test,axis=0)\n",
    "\n",
    "# concatenate, in order, all emotions back into one array \n",
    "y_train = np.concatenate(y_train,axis=0)\n",
    "y_valid = np.concatenate(y_valid,axis=0)\n",
    "y_test = np.concatenate(y_test,axis=0)\n",
    "\n",
    "# combine and store indices for all emotions' train, validation, test sets to verify uniqueness of sets\n",
    "train_set = np.concatenate(train_set,axis=0)\n",
    "valid_set = np.concatenate(valid_set,axis=0)\n",
    "test_set = np.concatenate(test_set,axis=0)\n",
    "\n",
    "# check shape of each set\n",
    "print(f'Training waveforms:{X_train.shape}, y_train:{y_train.shape}')\n",
    "print(f'Validation waveforms:{X_valid.shape}, y_valid:{y_valid.shape}')\n",
    "print(f'Test waveforms:{X_test.shape}, y_test:{y_test.shape}')\n",
    "\n",
    "# make sure train, validation, test sets have no overlap/are unique\n",
    "# get all unique indices across all sets and how many times each index appears (count)\n",
    "uniques, count = np.unique(np.concatenate([train_set,test_set,valid_set],axis=0), return_counts=True)\n",
    "\n",
    "# if each index appears just once, and we have 1440 such unique indices, then all sets are unique\n",
    "if sum(count==1) == len(emotions):\n",
    "    print(f'\\nSets are unique: {sum(count==1)} samples out of {len(emotions)} are unique')\n",
    "else:\n",
    "    print(f'\\nSets are NOT unique: {sum(count==1)} samples out of {len(emotions)} are unique')    "
   ]
  },
  {
   "cell_type": "markdown",
   "metadata": {
    "id": "kikSzy0MCFix"
   },
   "source": [
    "## Extract Features \n"
   ]
  },
  {
   "cell_type": "markdown",
   "metadata": {
    "id": "HJ0phzMzy40S"
   },
   "source": [
    "Extract the features from unaugmented waveforms first. In the next step, we'll append features from augmented waveforms to these 'native' features."
   ]
  },
  {
   "cell_type": "code",
   "execution_count": 9,
   "metadata": {
    "colab": {
     "base_uri": "https://localhost:8080/",
     "height": 202
    },
    "id": "OI4y4gFgCED3",
    "outputId": "12fad87e-9b6b-4b1a-d48c-f5d40d7e034a"
   },
   "outputs": [
    {
     "name": "stdout",
     "output_type": "stream",
     "text": [
      "Train waveforms:\n",
      " Processed 45/45 waveforms\n",
      "\n",
      "Validation waveforms:\n",
      " Processed 7/7 waveforms\n",
      "\n",
      "Test waveforms:\n",
      " Processed 8/8 waveforms\n",
      "\n",
      "Features set: 60 total, 45 train, 7 validation, 8 test samples\n",
      "Features (MFC coefficient matrix) shape: 40 mel frequency coefficients x 282 time steps\n"
     ]
    }
   ],
   "source": [
    "# initialize feature arrays\n",
    "# We extract MFCC features from waveforms and store in respective 'features' array\n",
    "features_train, features_valid, features_test = [],[],[]\n",
    "\n",
    "print('Train waveforms:') # get training set features \n",
    "features_train = get_features(X_train, features_train, sample_rate)\n",
    "\n",
    "print('\\n\\nValidation waveforms:') # get validation set features\n",
    "features_valid = get_features(X_valid, features_valid, sample_rate)\n",
    "\n",
    "print('\\n\\nTest waveforms:') # get test set features \n",
    "features_test = get_features(X_test, features_test, sample_rate)\n",
    "\n",
    "print(f'\\n\\nFeatures set: {len(features_train)+len(features_test)+len(features_valid)} total, {len(features_train)} train, {len(features_valid)} validation, {len(features_test)} test samples')\n",
    "print(f'Features (MFC coefficient matrix) shape: {len(features_train[0])} mel frequency coefficients x {len(features_train[0][1])} time steps')"
   ]
  },
  {
   "cell_type": "markdown",
   "metadata": {
    "id": "mx3PipOL60DG"
   },
   "source": [
    "## Augmenting the Data with AWGN - Additive White Gaussian Noise\n",
    "\n",
    "### Motivation\n",
    "\n",
    "Since our dataset is small, it is prone to overfitting - especially with highly parameterized deep neural net models\n",
    "such as the one we aim to build in this notebook. As such, we're going to want to augment our data. Generating more real samples will be immensely difficult. Instead, we can add white noise to the audio signals - not only to mask the effect of random noise present in the training set - but also **to create pseudo-new training samples and offset the impact of noise intrinsic to the dataset.** \n",
    "\n",
    "In addition, the RAVDESS dataset is extremely clean - we will likely want to make predictions on noisy, real-world data - yet another reason to augment the training data.\n",
    "\n",
    "We're going to use Additive White Gaussian Noise (AWGN). It's Additive because we're adding it to the source audio signal,\n",
    "**it's Gaussian because the noise vector will be sampled from a normal distribution and have a time average of zero (zero-mean), and it's white because after a whitening transformation the noise will add power to the audio signal uniformly across the frequency distribution.**\n",
    "\n",
    "We need a good balance of noise - too little will be useless, and too much will make it too difficult for the network to learn from the training data. **Note that this is just for training - we would _not_ need to add AWGN to real-world data on which we make predictions** (although we could). \n",
    "\n",
    "### Math\n",
    "The key parameters in AWGN are the signal to noise ratio (SNR), defining the magnitude of the noise added w.r.t. the audio signal. We parameterize AWGN with the minimum and maximize SNR so we can pick a random SNR to use in augmenting each sample's waveform.\n",
    "\n",
    "We need to constrain covariance to make it true AWGN. **We make a zero-mean vector of Gaussian noises (np.random.normal) that are statistically dependent. We need to apply a [whitening transformation](https://en.wikipedia.org/wiki/Whitening_transformation)**, a linear transformation taking a vector of random normal (Gaussian) variables with a known covariance matrix and mapping it to a new vector whose covariance is the identity matrix, i.e. the vector is now perfectly uncorrelated with a diaganol covariance matrix, each point of noise having variance == stdev == 1. **The whitening transformation by definition transforms a vector into a white noise vector.**\n",
    "\n",
    "We're going to add the AWGN augmented waveforms as new samples to our dataset. **Since we generate AWGN which is random for each and every sample - random random noise - we can add multiples of our noise-augmented dataset. I'll add 2 extra identical, randomly noisy datasets with 1440 samples each to get a dataset with 1440 native + 1440x2 == 4320 noisy samples.**"
   ]
  },
  {
   "cell_type": "code",
   "execution_count": 10,
   "metadata": {
    "id": "T6iY69E-60DG"
   },
   "outputs": [],
   "source": [
    "def awgn_augmentation(waveform, multiples=2, bits=16, snr_min=15, snr_max=30): \n",
    "    \n",
    "    # get length of waveform (should be 3*48k = 144k)\n",
    "    wave_len = len(waveform)\n",
    "    \n",
    "    # Generate normally distributed (Gaussian) noises\n",
    "    # one for each waveform and multiple (i.e. wave_len*multiples noises)\n",
    "    noise = np.random.normal(size=(multiples, wave_len))\n",
    "    \n",
    "    # Normalize waveform and noise\n",
    "    norm_constant = 2.0**(bits-1)\n",
    "    norm_wave = waveform / norm_constant\n",
    "    norm_noise = noise / norm_constant\n",
    "    \n",
    "    # Compute power of waveform and power of noise\n",
    "    signal_power = np.sum(norm_wave ** 2) / wave_len\n",
    "    noise_power = np.sum(norm_noise ** 2, axis=1) / wave_len\n",
    "    \n",
    "    # Choose random SNR in decibels in range [15,30]\n",
    "    snr = np.random.randint(snr_min, snr_max)\n",
    "    \n",
    "    # Apply whitening transformation: make the Gaussian noise into Gaussian white noise\n",
    "    # Compute the covariance matrix used to whiten each noise \n",
    "    # actual SNR = signal/noise (power)\n",
    "    # actual noise power = 10**(-snr/10)\n",
    "    covariance = np.sqrt((signal_power / noise_power) * 10 ** (- snr / 10))\n",
    "    # Get covariance matrix with dim: (144000, 2) so we can transform 2 noises: dim (2, 144000)\n",
    "    covariance = np.ones((wave_len, multiples)) * covariance\n",
    "\n",
    "    # Since covariance and noise are arrays, * is the haddamard product \n",
    "    # Take Haddamard product of covariance and noise to generate white noise\n",
    "    multiple_augmented_waveforms = waveform + covariance.T * noise\n",
    "    \n",
    "    return multiple_augmented_waveforms"
   ]
  },
  {
   "cell_type": "code",
   "execution_count": 11,
   "metadata": {
    "id": "tx-eNKa060DJ"
   },
   "outputs": [],
   "source": [
    "def augment_waveforms(waveforms, features, emotions, multiples):\n",
    "    # keep track of how many waveforms we've processed so we can add correct emotion label in the same order\n",
    "    emotion_count = 0\n",
    "    # keep track of how many augmented samples we've added\n",
    "    added_count = 0\n",
    "    # convert emotion array to list for more efficient appending\n",
    "    emotions = emotions.tolist()\n",
    "\n",
    "    for waveform in waveforms:\n",
    "\n",
    "        # Generate 2 augmented multiples of the dataset, i.e. 1440 native + 1440*2 noisy = 4320 samples total\n",
    "        augmented_waveforms = awgn_augmentation(waveform, multiples=multiples)\n",
    "\n",
    "        # compute spectrogram for each of 2 augmented waveforms\n",
    "        for augmented_waveform in augmented_waveforms:\n",
    "\n",
    "            # Compute MFCCs over augmented waveforms\n",
    "            augmented_mfcc = feature_mfcc(augmented_waveform, sample_rate=sample_rate)\n",
    "\n",
    "            # append the augmented spectrogram to the rest of the native data\n",
    "            features.append(augmented_mfcc)\n",
    "            emotions.append(emotions[emotion_count])\n",
    "\n",
    "            # keep track of new augmented samples\n",
    "            added_count += 1\n",
    "\n",
    "            # check progress\n",
    "            print('\\r'+f'Processed {emotion_count + 1}/{len(waveforms)} waveforms for {added_count}/{len(waveforms)*multiples} new augmented samples',end='')\n",
    "\n",
    "        # keep track of the emotion labels to append in order\n",
    "        emotion_count += 1\n",
    "        \n",
    "        # store augmented waveforms to check their shape\n",
    "        augmented_waveforms_temp.append(augmented_waveforms)\n",
    "    \n",
    "    return features, emotions"
   ]
  },
  {
   "cell_type": "markdown",
   "metadata": {
    "id": "4GZ2CAy3F-nK"
   },
   "source": [
    "### Compute AWGN-augmented features and add to the rest of the dataset\n",
    "\n"
   ]
  },
  {
   "cell_type": "code",
   "execution_count": 12,
   "metadata": {
    "colab": {
     "base_uri": "https://localhost:8080/",
     "height": 218
    },
    "id": "05bOxnra54ia",
    "outputId": "c9decf24-7cab-4688-9836-06fede52ebba"
   },
   "outputs": [
    {
     "name": "stdout",
     "output_type": "stream",
     "text": [
      "Train waveforms:\n",
      "Processed 45/45 waveforms for 90/90 new augmented samples\n",
      "\n",
      "Validation waveforms:\n",
      "Processed 7/7 waveforms for 14/14 new augmented samples\n",
      "\n",
      "Test waveforms:\n",
      "Processed 8/8 waveforms for 16/16 new augmented samples\n",
      "\n",
      "Native + Augmented Features set: 180 total, 135 train, 21 validation, 24 test samples\n",
      "135 training sample labels, 21 validation sample labels, 24 test sample labels\n",
      "Features (MFCC matrix) shape: 40 mel frequency coefficients x 282 time steps\n"
     ]
    }
   ],
   "source": [
    "# store augmented waveforms to verify their shape and random-ness\n",
    "augmented_waveforms_temp = []\n",
    "\n",
    "# specify multiples of our dataset to add as augmented data\n",
    "multiples = 2\n",
    "\n",
    "print('Train waveforms:') # augment waveforms of training set\n",
    "features_train , y_train = augment_waveforms(X_train, features_train, y_train, multiples)\n",
    "\n",
    "print('\\n\\nValidation waveforms:') # augment waveforms of validation set\n",
    "features_valid, y_valid = augment_waveforms(X_valid, features_valid, y_valid, multiples)\n",
    "\n",
    "print('\\n\\nTest waveforms:') # augment waveforms of test set \n",
    "features_test, y_test = augment_waveforms(X_test, features_test, y_test, multiples)\n",
    "\n",
    "# Check new shape of extracted features and data:\n",
    "print(f'\\n\\nNative + Augmented Features set: {len(features_train)+len(features_test)+len(features_valid)} total, {len(features_train)} train, {len(features_valid)} validation, {len(features_test)} test samples')\n",
    "print(f'{len(y_train)} training sample labels, {len(y_valid)} validation sample labels, {len(y_test)} test sample labels')\n",
    "print(f'Features (MFCC matrix) shape: {len(features_train[0])} mel frequency coefficients x {len(features_train[0][1])} time steps')"
   ]
  },
  {
   "cell_type": "markdown",
   "metadata": {
    "id": "pG6UTrZ160DO"
   },
   "source": [
    "### Check Augmented Waveforms:"
   ]
  },
  {
   "cell_type": "code",
   "execution_count": 17,
   "metadata": {
    "colab": {
     "base_uri": "https://localhost:8080/",
     "height": 295
    },
    "id": "co938icT60DP",
    "outputId": "1a2e1335-4cf0-41f9-a7fe-93ebb896183c"
   },
   "outputs": [
    {
     "data": {
      "image/png": "[encoded data removed]",
      "text/plain": [
       "<Figure size 1500x400 with 2 Axes>"
      ]
     },
     "metadata": {},
     "output_type": "display_data"
    },
    {
     "data": {
      "image/png": "[encoded data removed]",
      "text/plain": [
       "<Figure size 1500x400 with 2 Axes>"
      ]
     },
     "metadata": {},
     "output_type": "display_data"
    }
   ],
   "source": [
    "# pick a random waveform, but same one from native and augmented set for easier comparison\n",
    "plt.figure(figsize=(15,4))\n",
    "plt.subplot(1, 2, 1)\n",
    "librosa.display.waveshow(waveforms[12], sr=sample_rate, color=\"blue\")\n",
    "plt.title('Native')\n",
    "\n",
    "plt.subplot(1, 2, 2)\n",
    "# augmented waveforms are 2D len 1440 list with 2 waveforms in each position\n",
    "librosa.display.waveshow(augmented_waveforms_temp[0][0], sr=sample_rate, color=\"blue\")\n",
    "plt.title('AWGN Augmented')\n",
    "plt.show()\n",
    "\n",
    "plt.figure(figsize=(15,4))\n",
    "plt.subplot(1, 2, 1)\n",
    "librosa.display.waveshow(augmented_waveforms_temp[2][0], sr=sample_rate, color=\"blue\")\n",
    "plt.title('AWGN Augmented')\n",
    "\n",
    "plt.subplot(1, 2, 2)\n",
    "librosa.display.waveshow(augmented_waveforms_temp[7][0], sr=sample_rate, color=\"blue\")\n",
    "plt.title('AWGN Augmented')\n",
    "plt.show()"
   ]
  },
  {
   "cell_type": "markdown",
   "metadata": {
    "id": "Z-GOeKiP60DV"
   },
   "source": [
    "Looks noisy alright. Noise is clearly visible in otherwise-silent regions of the waveform. We can see the variability of the noise, which should have an SNR between 15 and 30.\n",
    "\n",
    "**Note that augmentation was only done after splitting data into train, validation, and test sets - and we processed each set separately.**\n",
    "\n",
    "**When we augmented the data before splitting it, test and validation data leaked into the training set giving a 97% test accuracy after training.**\n",
    "\n",
    "## Format Data into Tensor Ready 4D Arrays\n",
    "We don't have a colour channel in our MFCC feature array of dim (#samples, #MFC coefficients, time steps). **We have an analog of a black and white image: instead of 3 colour channels, we have 1 signal intensity channel: magnitude of each of 40 mel frequency coefficients at time t.**\n",
    "\n",
    "**We need an input channel dim to expand to output channels using CNN filters. We create a dummy channel dim to expand features into 2D-CNN-ready 4D tensor format: N x C x H x W.**"
   ]
  },
  {
   "cell_type": "code",
   "execution_count": 18,
   "metadata": {
    "colab": {
     "base_uri": "https://localhost:8080/",
     "height": 50
    },
    "id": "PQCm9rLx60DW",
    "outputId": "8dd1b6a1-16d5-44c5-e579-790aa83dc05a"
   },
   "outputs": [
    {
     "name": "stdout",
     "output_type": "stream",
     "text": [
      "Shape of 4D feature array for input tensor: (135, 1, 40, 282) train, (21, 1, 40, 282) validation, (24, 1, 40, 282) test\n",
      "Shape of emotion labels: (135,) train, (21,) validation, (24,) test\n"
     ]
    }
   ],
   "source": [
    "# need to make dummy input channel for CNN input feature tensor\n",
    "X_train = np.expand_dims(features_train,1)\n",
    "X_valid = np.expand_dims(features_valid, 1)\n",
    "X_test = np.expand_dims(features_test,1)\n",
    "\n",
    "# convert emotion labels from list back to numpy arrays for PyTorch to work with \n",
    "y_train = np.array(y_train)\n",
    "y_valid = np.array(y_valid)\n",
    "y_test = np.array(y_test)\n",
    "\n",
    "# confiorm that we have tensor-ready 4D data array\n",
    "# should print (batch, channel, width, height) == (4320, 1, 128, 282) when multiples==2\n",
    "print(f'Shape of 4D feature array for input tensor: {X_train.shape} train, {X_valid.shape} validation, {X_test.shape} test')\n",
    "print(f'Shape of emotion labels: {y_train.shape} train, {y_valid.shape} validation, {y_test.shape} test')"
   ]
  },
  {
   "cell_type": "code",
   "execution_count": 19,
   "metadata": {
    "id": "3mHDd2jiB9o6"
   },
   "outputs": [],
   "source": [
    "# free up some RAM - no longer need full feature set or any waveforms \n",
    "del features_train, features_valid, features_test, waveforms, augmented_waveforms_temp"
   ]
  },
  {
   "cell_type": "markdown",
   "metadata": {
    "id": "0Mr8NcUd60Dd"
   },
   "source": [
    "## Feature Scaling\n",
    "Scaling will drastically decrease the length of time the model needs to train to convergence - it will have easier computations to perform on smaller magnitudes. **For reference, scaling reduces the time to convergence from about 500 to 200 epochs for this model.**\n",
    "\n",
    "**Standard Scaling makes the most sense because we have features whose target distribution we don't know.** When I performed classification on this dataset with an MLP classifier standard scaling was best across a variety of conditions and features.\n"
   ]
  },
  {
   "cell_type": "code",
   "execution_count": 20,
   "metadata": {
    "colab": {
     "base_uri": "https://localhost:8080/",
     "height": 67
    },
    "id": "tlOPCDUx60De",
    "outputId": "29dfd276-9296-4847-bc73-66d577a8ef4c"
   },
   "outputs": [
    {
     "name": "stdout",
     "output_type": "stream",
     "text": [
      "X_train scaled:(135, 1, 40, 282), y_train:(135,)\n",
      "X_valid scaled:(21, 1, 40, 282), y_valid:(21,)\n",
      "X_test scaled:(24, 1, 40, 282), y_test:(24,)\n"
     ]
    }
   ],
   "source": [
    "from sklearn.preprocessing import StandardScaler\n",
    "\n",
    "scaler = StandardScaler()\n",
    "\n",
    "#### Scale the training data ####\n",
    "# store shape so we can transform it back \n",
    "N,C,H,W = X_train.shape\n",
    "# Reshape to 1D because StandardScaler operates on a 1D array\n",
    "# tell numpy to infer shape of 1D array with '-1' argument\n",
    "X_train = np.reshape(X_train, (N,-1)) \n",
    "X_train = scaler.fit_transform(X_train)\n",
    "# Transform back to NxCxHxW 4D tensor format\n",
    "X_train = np.reshape(X_train, (N,C,H,W))\n",
    "\n",
    "##### Scale the validation set ####\n",
    "N,C,H,W = X_valid.shape\n",
    "X_valid = np.reshape(X_valid, (N,-1))\n",
    "X_valid = scaler.transform(X_valid)\n",
    "X_valid = np.reshape(X_valid, (N,C,H,W))\n",
    "\n",
    "#### Scale the test set ####\n",
    "N,C,H,W = X_test.shape\n",
    "X_test = np.reshape(X_test, (N,-1))\n",
    "X_test = scaler.transform(X_test)\n",
    "X_test = np.reshape(X_test, (N,C,H,W))\n",
    "\n",
    "# check shape of each set again\n",
    "print(f'X_train scaled:{X_train.shape}, y_train:{y_train.shape}')\n",
    "print(f'X_valid scaled:{X_valid.shape}, y_valid:{y_valid.shape}')\n",
    "print(f'X_test scaled:{X_test.shape}, y_test:{y_test.shape}')"
   ]
  },
  {
   "cell_type": "markdown",
   "metadata": {
    "id": "zvZh_Cuv7zAb"
   },
   "source": [
    "## Save and Reload Data as NumPy Arrays \n",
    "We can save the training/validation/test data as numpy arrays to enable faster loading in case the notebook kernel crashes / google colab runtime crashes / any number of reasons the training data might be cleared from memory. This is much faster than loading 1440 files and computing their features again - not to mention augmented features."
   ]
  },
  {
   "cell_type": "code",
   "execution_count": 21,
   "metadata": {
    "colab": {
     "base_uri": "https://localhost:8080/",
     "height": 34
    },
    "id": "yx4vK5ssRIzH",
    "outputId": "8a317559-eb79-43e4-c664-d4815d0f33bd"
   },
   "outputs": [
    {
     "name": "stdout",
     "output_type": "stream",
     "text": [
      "Features and labels saved to features+labels.npy\n"
     ]
    }
   ],
   "source": [
    "###### SAVE #########\n",
    "# choose save file name \n",
    "filename = 'features+labels.npy'\n",
    "\n",
    "# open file in write mode and write data\n",
    "with open(filename, 'wb') as f:\n",
    "    np.save(f, X_train)\n",
    "    np.save(f, X_valid)\n",
    "    np.save(f, X_test)\n",
    "    np.save(f, y_train)\n",
    "    np.save(f, y_valid)\n",
    "    np.save(f, y_test)\n",
    "\n",
    "print(f'Features and labels saved to {filename}')"
   ]
  },
  {
   "cell_type": "code",
   "execution_count": 22,
   "metadata": {
    "colab": {
     "base_uri": "https://localhost:8080/",
     "height": 67
    },
    "id": "bj46pQstRKlI",
    "outputId": "02dd2e23-ede4-45aa-87ef-1e62fa195994"
   },
   "outputs": [
    {
     "name": "stdout",
     "output_type": "stream",
     "text": [
      "X_train:(135, 1, 40, 282), y_train:(135,)\n",
      "X_valid:(21, 1, 40, 282), y_valid:(21,)\n",
      "X_test:(24, 1, 40, 282), y_test:(24,)\n"
     ]
    }
   ],
   "source": [
    "##### LOAD #########\n",
    "# choose load file name \n",
    "filename = 'features+labels.npy'\n",
    "\n",
    "# open file in read mode and read data \n",
    "with open(filename, 'rb') as f:\n",
    "    X_train = np.load(f)\n",
    "    X_valid = np.load(f)\n",
    "    X_test = np.load(f)\n",
    "    y_train = np.load(f)\n",
    "    y_valid = np.load(f)\n",
    "    y_test = np.load(f)\n",
    "\n",
    "# Check that we've recovered the right data\n",
    "print(f'X_train:{X_train.shape}, y_train:{y_train.shape}')\n",
    "print(f'X_valid:{X_valid.shape}, y_valid:{y_valid.shape}')\n",
    "print(f'X_test:{X_test.shape}, y_test:{y_test.shape}') "
   ]
  },
  {
   "cell_type": "markdown",
   "metadata": {
    "id": "aYjV10O460Dg"
   },
   "source": [
    "# Architecture Overview\n",
    "<img src=\"reports/cnn-transformer-final.png\">\n",
    "As a whole, the CNN architecture of this network is inspired by a combination of the golden standards in image and sequence processing over the last few years.\n",
    "\n",
    "Each 3-layer deep 2D convolutional block is extremely similar to the **classic [LeNet](http://yann.lecun.com/exdb/publis/pdf/lecun-98.pdf) architecture: Conv->Pool>Conv>Pool>FC.** \n",
    "\n",
    "**[AlexNet](https://papers.nips.cc/paper/4824-imagenet-classification-with-deep-convolutional-neural-networks.pdf) forms the basis for increasing the complexity of feature maps with channel expansion through stacked CNN layers; [Inception and GoogLeNet](https://static.googleusercontent.com/media/research.google.com/en//pubs/archive/43022.pdf) are the inspiration for parallelizing CNN layers in the hopes of diverisfying the features learned by the network.** \n",
    "\n",
    "**[VGGNet](https://arxiv.org/pdf/1409.1556.pdf) proved the unreasonable efficiency of using fixed sized kernels throughout deeply stacked CNN layers;** I found this to extend to this task. Specifically, VGG saw an improvement over AlexNet largely by replacing large kernels (i.e. 11x11 stride 5) with smaller ones of 3x3 stride 1. One of the motivations that VGG cites for this is that the 3x3 kernel is the smallest kernel size choice in understanding spatial data w.r.t. up/down/left/right (although VGG also uses 1x1 kernels). VGGNet also inspires the maxpool kernel size of 2x2 stride 2, as I have used at the first layer of each convolutional block. \n",
    "\n",
    "To be more precise, the motivation to use small stacked filters is two-fold: Computational efficiency and expressivity of feature representation. When we stack 3 3x3 kernels on top of eachother as in this architecture, the second layer has a 5x5 view of the original input volume, and the 3rd layer a 7x7 view. However, the nonlinearities between each smaller layer convey more complex feature representations, whereas a single 7x7 layer would only perform a linear transformation itself. Furthermore, if we keep channel (C) consistent between layers, then 3 3x3 kernels are parameterized by (3(C(3x3xC)) = 27C^2 parameters, while just one 7x7 kernel needs C(7x7xC) = 49C^2 parameters. **Ultimately, small stacked kernels appear to be both more powerful and efficient - although, in [Large Kernel Matters -\n",
    "Improve Semantic Segmentation by Global Convolutional Network](https://arxiv.org/pdf/1703.02719.pdf), the authors conclude that a larger kernel outperforms smaller stacked kernels for semantic segmentation - however, since we are just doing the semantic part (classification) and don't care about \"where\" the emotion is - this shouldn't apply.**\n",
    "\n",
    "Finally, the original [2015 Batch Normalization (BN) paper](https://arxiv.org/abs/1502.03167) suggests that \"We add the BN transform immediately before the nonlinearity\" i.e. before ReLU; however, **I achieved better performance out of this architechture using BN after ReLU. See Keras author's [Francois Chollet's response on GitHub](https://github.com/keras-team/keras/issues/1802#issuecomment-187966878) regarding the BN order issue: \"I can guarantee that recent code written by Christian \\[Szegedy\\] applies relu before BN\".** \n",
    "\n",
    "The Transformer architecture is precisely as in Viswani et al, 2017: Attention is All You Need, but I use 4 stacked encoders instead of 6 as in their paper. For more details on the Transformer block: [Appendix B: The Transformer and Self-Attention (is All You Need)](#Appendix-B:-The-Transformer-and-Self-Attention-(is-All-You-Need))\n",
    "\n",
    "# CNN Motivation\n",
    "**CNNs with 2D convolutional layers are the gold standard for image processing**, other than the recent advances in the Transformer for images. 2D convolution layers accept input feature maps in a (N,C,H,W) (batch size, channel, height, width) format. We have 4320 MFCC plots - 1440 native and 2880 noise augmented - each MFCC plot is of shape 40x282 with 40 MFC coefficients representing different mel pitch ranges, with 282 timesteps for each MFC coefficient. **We can imagine MFCC plots to be a black and white image with 1 signal intensity channel.** Our MFCC input feature tensor will thus be of shape (4320, 1, 40, 282) before splitting for training. I'm going to refer to input/output feature maps and input/output volumes interchangeably, but they have the same meaning. After an activation function operates on a feature map, it produces an activation map.\n",
    "\n",
    "I'm using 3x3 kernels in all 3 layers in both CNN blocks. The first layer only has a single input channel creating a 1x3x3 filter, with 16 output channels necessitating 16 such unique 1x3x3 filters with 1x3x3=9 weights per filter. The next layer has 16 input channels and 32 output channels, producing 32 unique 16x3x3 filters, *each* filter having 16x3x3 = 144 weights. That is, the second layer is applying 32 differently weighted 16x3x3 filters to an input volume of 16x20x141 (the 2x2 maxpooled output of the first layer), producing an output feature map of 32x5x35 after 4x4 stride 4 maxpooling. The last layer has 32 input channels, so a 32x3x3 filter, and 64 output channels, so 64 unique such filters with 32x3x3=288 weights each. The last layer produces an output feature map of 64x1x8 after 4x4 stride 4 maxpooling. **I hope that the simultaneous expansion of filter depth/complexity and reduction of feature map volume will provide the most expressive hierarchical feature representation at the lowest computational cost.** \n",
    "\n",
    "**The key motivations and operations of a 2D Convolutional Neural Net are described in detail in [Appendix A: Convolutional Neural Nets Dissected](#Appendix-A:-Convolutional-Neural-Nets-Dissected) in order to explain the motivation behind the necessity of the CNN for this task and the considerations to take when optimizing the hyperparameters of each layer in a CNN.**\n",
    "\n",
    "# Transformer-Encoder Motivation\n",
    "\n",
    "**I use the Transformer-Encoder layer as introduced in [Attention is All You Need](https://arxiv.org/abs/1706.03762) with the hopes that the network will learn to predict frequency distributions of different emotions according to the global structure of the MFCCs of each emotion.** I could have used LSTM-RNNs to learn the sequence of the spectrogram for each emotion, but the network would only learn to predict frequency changes according to adjacent time steps; in contrast, the multi-head self-attention layers of the transformer enable the network to look at multiple previous time steps when predicting the next. This made sense to me because emotions colour the entire sequence of frequencies, not just at one timestep. \n",
    "\n",
    "**I maxpool the input MFCC map to the transformer block to drastically reduce the number of parameters the network needs to learn.**\n",
    "\n",
    "**The key motivations and operations behind the Transformer architecture are described in detail in [Appendix B: The Transformer](#Appendix-B:-The-Transformer)**"
   ]
  },
  {
   "cell_type": "markdown",
   "metadata": {
    "id": "8ZaPs9Zm60Dg"
   },
   "source": [
    "# Build Model Architecture and Define Forward Pass"
   ]
  },
  {
   "cell_type": "code",
   "execution_count": 23,
   "metadata": {
    "id": "Mk7KLkLQ60Dh"
   },
   "outputs": [],
   "source": [
    "#change nn.sequential to take dict to make more readable \n",
    "\n",
    "class parallel_all_you_want(nn.Module):\n",
    "    # Define all layers present in the network\n",
    "    def __init__(self,num_emotions):\n",
    "        super().__init__() \n",
    "        \n",
    "        ################ TRANSFORMER BLOCK #############################\n",
    "        # maxpool the input feature map/tensor to the transformer \n",
    "        # a rectangular kernel worked better here for the rectangular input spectrogram feature map/tensor\n",
    "        self.transformer_maxpool = nn.MaxPool2d(kernel_size=[1,4], stride=[1,4])\n",
    "        \n",
    "        # define single transformer encoder layer\n",
    "        # self-attention + feedforward network from \"Attention is All You Need\" paper\n",
    "        # 4 multi-head self-attention layers each with 40-->512--->40 feedforward network\n",
    "        transformer_layer = nn.TransformerEncoderLayer(\n",
    "            d_model=40, # input feature (frequency) dim after maxpooling 40*282 -> 40*70 (MFC*time)\n",
    "            nhead=4, # 4 self-attention layers in each multi-head self-attention layer in each encoder block\n",
    "            dim_feedforward=512, # 2 linear layers in each encoder block's feedforward network: dim 40-->512--->40\n",
    "            dropout=0.4, \n",
    "            activation='relu' # ReLU: avoid saturation/tame gradient/reduce compute time\n",
    "        )\n",
    "        \n",
    "        # I'm using 4 instead of the 6 identical stacked encoder layrs used in Attention is All You Need paper\n",
    "        # Complete transformer block contains 4 full transformer encoder layers (each w/ multihead self-attention+feedforward)\n",
    "        self.transformer_encoder = nn.TransformerEncoder(transformer_layer, num_layers=4)\n",
    "        \n",
    "        ############### 1ST PARALLEL 2D CONVOLUTION BLOCK ############\n",
    "        # 3 sequential conv2D layers: (1,40,282) --> (16, 20, 141) -> (32, 5, 35) -> (64, 1, 8)\n",
    "        self.conv2Dblock1 = nn.Sequential(\n",
    "            \n",
    "            # 1st 2D convolution layer\n",
    "            nn.Conv2d(\n",
    "                in_channels=1, # input volume depth == input channel dim == 1\n",
    "                out_channels=16, # expand output feature map volume's depth to 16\n",
    "                kernel_size=3, # typical 3*3 stride 1 kernel\n",
    "                stride=1,\n",
    "                padding=1\n",
    "                      ),\n",
    "            nn.BatchNorm2d(16), # batch normalize the output feature map before activation\n",
    "            nn.ReLU(), # feature map --> activation map\n",
    "            nn.MaxPool2d(kernel_size=2, stride=2), #typical maxpool kernel size\n",
    "            nn.Dropout(p=0.3), #randomly zero 30% of 1st layer's output feature map in training\n",
    "            \n",
    "            # 2nd 2D convolution layer identical to last except output dim, maxpool kernel\n",
    "            nn.Conv2d(\n",
    "                in_channels=16, \n",
    "                out_channels=32, # expand output feature map volume's depth to 32\n",
    "                kernel_size=3,\n",
    "                stride=1,\n",
    "                padding=1\n",
    "                      ),\n",
    "            nn.BatchNorm2d(32),\n",
    "            nn.ReLU(),\n",
    "            nn.MaxPool2d(kernel_size=4, stride=4), # increase maxpool kernel for subsequent filters\n",
    "            nn.Dropout(p=0.3), \n",
    "            \n",
    "            # 3rd 2D convolution layer identical to last except output dim\n",
    "            nn.Conv2d(\n",
    "                in_channels=32,\n",
    "                out_channels=64, # expand output feature map volume's depth to 64\n",
    "                kernel_size=3,\n",
    "                stride=1,\n",
    "                padding=1\n",
    "                      ),\n",
    "            nn.BatchNorm2d(64),\n",
    "            nn.ReLU(),\n",
    "            nn.MaxPool2d(kernel_size=4, stride=4),\n",
    "            nn.Dropout(p=0.3),\n",
    "        )\n",
    "        ############### 2ND PARALLEL 2D CONVOLUTION BLOCK ############\n",
    "        # 3 sequential conv2D layers: (1,40,282) --> (16, 20, 141) -> (32, 5, 35) -> (64, 1, 8)\n",
    "        self.conv2Dblock2 = nn.Sequential(\n",
    "            \n",
    "            # 1st 2D convolution layer\n",
    "            nn.Conv2d(\n",
    "                in_channels=1, # input volume depth == input channel dim == 1\n",
    "                out_channels=16, # expand output feature map volume's depth to 16\n",
    "                kernel_size=3, # typical 3*3 stride 1 kernel\n",
    "                stride=1,\n",
    "                padding=1\n",
    "                      ),\n",
    "            nn.BatchNorm2d(16), # batch normalize the output feature map before activation\n",
    "            nn.ReLU(), # feature map --> activation map\n",
    "            nn.MaxPool2d(kernel_size=2, stride=2), #typical maxpool kernel size\n",
    "            nn.Dropout(p=0.3), #randomly zero 30% of 1st layer's output feature map in training\n",
    "            \n",
    "            # 2nd 2D convolution layer identical to last except output dim, maxpool kernel\n",
    "            nn.Conv2d(\n",
    "                in_channels=16, \n",
    "                out_channels=32, # expand output feature map volume's depth to 32\n",
    "                kernel_size=3,\n",
    "                stride=1,\n",
    "                padding=1\n",
    "                      ),\n",
    "            nn.BatchNorm2d(32),\n",
    "            nn.ReLU(),\n",
    "            nn.MaxPool2d(kernel_size=4, stride=4), # increase maxpool kernel for subsequent filters\n",
    "            nn.Dropout(p=0.3), \n",
    "            \n",
    "            # 3rd 2D convolution layer identical to last except output dim\n",
    "            nn.Conv2d(\n",
    "                in_channels=32,\n",
    "                out_channels=64, # expand output feature map volume's depth to 64\n",
    "                kernel_size=3,\n",
    "                stride=1,\n",
    "                padding=1\n",
    "                      ),\n",
    "            nn.BatchNorm2d(64),\n",
    "            nn.ReLU(),\n",
    "            nn.MaxPool2d(kernel_size=4, stride=4),\n",
    "            nn.Dropout(p=0.3),\n",
    "        )\n",
    "\n",
    "        ################# FINAL LINEAR BLOCK ####################\n",
    "        # Linear softmax layer to take final concatenated embedding tensor \n",
    "        #    from parallel 2D convolutional and transformer blocks, output 8 logits \n",
    "        # Each full convolution block outputs (64*1*8) embedding flattened to dim 512 1D array \n",
    "        # Full transformer block outputs 40*70 feature map, which we time-avg to dim 40 1D array\n",
    "        # 512*2+40 == 1064 input features --> 8 output emotions \n",
    "        self.fc1_linear = nn.Linear(512*2+40,num_emotions) \n",
    "        \n",
    "        ### Softmax layer for the 8 output logits from final FC linear layer \n",
    "        self.softmax_out = nn.Softmax(dim=1) # dim==1 is the freq embedding\n",
    "        \n",
    "    # define one complete parallel fwd pass of input feature tensor thru 2*conv+1*transformer blocks\n",
    "    def forward(self,x):\n",
    "        \n",
    "        ############ 1st parallel Conv2D block: 4 Convolutional layers ############################\n",
    "        # create final feature embedding from 1st convolutional layer \n",
    "        # input features pased through 4 sequential 2D convolutional layers\n",
    "        conv2d_embedding1 = self.conv2Dblock1(x) # x == N/batch * channel * freq * time\n",
    "        \n",
    "        # flatten final 64*1*8 feature map from convolutional layers to length 512 1D array \n",
    "        # skip the 1st (N/batch) dimension when flattening\n",
    "        conv2d_embedding1 = torch.flatten(conv2d_embedding1, start_dim=1) \n",
    "        \n",
    "        ############ 2nd parallel Conv2D block: 4 Convolutional layers #############################\n",
    "        # create final feature embedding from 2nd convolutional layer \n",
    "        # input features pased through 4 sequential 2D convolutional layers\n",
    "        conv2d_embedding2 = self.conv2Dblock2(x) # x == N/batch * channel * freq * time\n",
    "        \n",
    "        # flatten final 64*1*8 feature map from convolutional layers to length 512 1D array \n",
    "        # skip the 1st (N/batch) dimension when flattening\n",
    "        conv2d_embedding2 = torch.flatten(conv2d_embedding2, start_dim=1) \n",
    "        \n",
    "         \n",
    "        ########## 4-encoder-layer Transformer block w/ 40-->512-->40 feedfwd network ##############\n",
    "        # maxpool input feature map: 1*40*282 w/ 1*4 kernel --> 1*40*70\n",
    "        x_maxpool = self.transformer_maxpool(x)\n",
    "\n",
    "        # remove channel dim: 1*40*70 --> 40*70\n",
    "        x_maxpool_reduced = torch.squeeze(x_maxpool,1)\n",
    "        \n",
    "        # convert maxpooled feature map format: batch * freq * time ---> time * batch * freq format\n",
    "        # because transformer encoder layer requires tensor in format: time * batch * embedding (freq)\n",
    "        x = x_maxpool_reduced.permute(2,0,1) \n",
    "        \n",
    "        # finally, pass reduced input feature map x into transformer encoder layers\n",
    "        transformer_output = self.transformer_encoder(x)\n",
    "        \n",
    "        # create final feature emedding from transformer layer by taking mean in the time dimension (now the 0th dim)\n",
    "        # transformer outputs 2x40 (MFCC embedding*time) feature map, take mean of columns i.e. take time average\n",
    "        transformer_embedding = torch.mean(transformer_output, dim=0) # dim 40x70 --> 40\n",
    "        \n",
    "        ############# concatenate freq embeddings from convolutional and transformer blocks ######\n",
    "        # concatenate embedding tensors output by parallel 2*conv and 1*transformer blocks\n",
    "        complete_embedding = torch.cat([conv2d_embedding1, conv2d_embedding2,transformer_embedding], dim=1)  \n",
    "\n",
    "        ######### final FC linear layer, need logits for loss #########################\n",
    "        output_logits = self.fc1_linear(complete_embedding)  \n",
    "        \n",
    "        ######### Final Softmax layer: use logits from FC linear, get softmax for prediction ######\n",
    "        output_softmax = self.softmax_out(output_logits)\n",
    "        \n",
    "        # need output logits to compute cross entropy loss, need softmax probabilities to predict class\n",
    "        return output_logits, output_softmax                       "
   ]
  },
  {
   "cell_type": "markdown",
   "metadata": {
    "id": "-1fIIe6i60Dj"
   },
   "source": [
    "## Analyzing The Flow of Tensors Through the Network\n",
    "We zero-pad 1 the input feature map to each convolutional layer to get back from the layer the same shape tensor as we input: zero-pad 1 adds 2 to each of (H, W) dims, and the 3x3, stride 1 kernels cuts off (kernel - stride == 2) dims from each of (H,W). **Zero-pad 1 --> 3x3 stride 1 kernel effectively throws away the zero pads to get same input/output shape from each conv2D block.**\n",
    "\n",
    "At the end of first convolutional layer in each block we have a maxpool kernel of size 2x2, stride 2 which will take 1 of 4 pixels in its winddow. For the first input feature map the maxpool kernel will progress 40/2 = 20 times over the rows and 282/2=141 times over the columns, producing a 20x141 output map. **Nonoverlapping maxpool kernels reduce each output dim to _input dim / kernel size_.** We then expand the output channels to 16 making an output feature map of (16x20x141). \n",
    "\n",
    "The next two convolutional layers in each block have a maxpool kernel size 4x4, stride 4. Same math as above, maxpool reduces each dim/4. 2nd conv layer takes (16x20x141) --> (32x5x35). 3rd and final conv layer takes (32x5x35) --> (64x1x8).\n",
    "\n",
    "**Note that in (N,C,H,W) format, for MFCCs H = MFCC (pitch),  W = time step.**\n",
    "\n",
    "**Complete flow through each convolutional block (C,H,W):**\n",
    "\n",
    "    Layer 1 ---> 1x40x282 --> PAD-1 --> 1x42x284 --> FILTER 1x3x3 --> 16x40x282 --> MAXPOOL 2x2 stride 2 --> 16x20x141\n",
    "\n",
    "    Layer 2 ---> 16x20x141 --> PAD-1 --> 16x22x143 --> FILTER 16x3x3 --> 32x20x141 --> MAXPOOL 4x4 stride 4 --> 32x5x35\n",
    "\n",
    "    Layer 3 ---> 32x5x35 --> PAD-1 --> 32x7x37 --> FILTER 32x3x3 --> 64x5x35 --> MAXPOOL 4x4 stride 4 --> 64x1x8 \n",
    "\n",
    "    Flatten ---> 64x1x8 --> Final convolutional embedding length 512 1D array\n",
    "\n",
    "\n",
    "**Complete flow through transformer encoder block (C,H,W):**\n",
    "\n",
    "    Maxpool 1x4 stride 1x4 ---> 1x40x282 --> 1x20x70\n",
    "\n",
    "    Drop channel ---> 1x20x70 --> 20x70 (H,W)\n",
    "\n",
    "    Change dims ---> 20x70 --> 70x40 (W,H)\n",
    "\n",
    "    4xTransformer encoder ---> 70x40 --> 2x40 (W,H)\n",
    "\n",
    "    Time average ---> 2x40 --> 1x40 --> Final transformer embedding length 40 1D array\n",
    "\n",
    "**FC Linear network (C,H,W):**\n",
    "\n",
    "    Concatenate ---> 512+512+40 --> 1064 \n",
    "\n",
    "    FC Linear layer ---> 1064 --> Final linear logits output length 8 1D array\n",
    "\n",
    "    Softmax layer: 8 ----> 1 predicted emotion / max probability class\n",
    "\n",
    "\n",
    "We can confirm our network's tensor shapes and flow using the excellent torchsummary package which provides a PyTorch implementation of Keras' model.summary method:"
   ]
  },
  {
   "cell_type": "code",
   "execution_count": 25,
   "metadata": {},
   "outputs": [
    {
     "name": "stdout",
     "output_type": "stream",
     "text": [
      "Collecting torch-summary\n",
      "  Downloading torch_summary-1.4.5-py3-none-any.whl.metadata (18 kB)\n",
      "Downloading torch_summary-1.4.5-py3-none-any.whl (16 kB)\n",
      "Installing collected packages: torch-summary\n",
      "Successfully installed torch-summary-1.4.5\n"
     ]
    }
   ],
   "source": [
    "!pip install torch-summary"
   ]
  },
  {
   "cell_type": "code",
   "execution_count": 27,
   "metadata": {
    "colab": {
     "base_uri": "https://localhost:8080/",
     "height": 1000
    },
    "id": "LEu0842Q60Dk",
    "outputId": "bd58f880-5b37-4bed-9839-6a0381070d36"
   },
   "outputs": [
    {
     "name": "stdout",
     "output_type": "stream",
     "text": [
      "======================================================================\n",
      "Layer (type:depth-idx)                        Param #\n",
      "======================================================================\n",
      "├─MaxPool2d: 1-1                              --\n",
      "├─TransformerEncoder: 1-2                     --\n",
      "|    └─ModuleList: 2-1                        --\n",
      "|    |    └─TransformerEncoderLayer: 3-1      48,232\n",
      "|    |    └─TransformerEncoderLayer: 3-2      48,232\n",
      "|    |    └─TransformerEncoderLayer: 3-3      48,232\n",
      "|    |    └─TransformerEncoderLayer: 3-4      48,232\n",
      "├─Sequential: 1-3                             --\n",
      "|    └─Conv2d: 2-2                            160\n",
      "|    └─BatchNorm2d: 2-3                       32\n",
      "|    └─ReLU: 2-4                              --\n",
      "|    └─MaxPool2d: 2-5                         --\n",
      "|    └─Dropout: 2-6                           --\n",
      "|    └─Conv2d: 2-7                            4,640\n",
      "|    └─BatchNorm2d: 2-8                       64\n",
      "|    └─ReLU: 2-9                              --\n",
      "|    └─MaxPool2d: 2-10                        --\n",
      "|    └─Dropout: 2-11                          --\n",
      "|    └─Conv2d: 2-12                           18,496\n",
      "|    └─BatchNorm2d: 2-13                      128\n",
      "|    └─ReLU: 2-14                             --\n",
      "|    └─MaxPool2d: 2-15                        --\n",
      "|    └─Dropout: 2-16                          --\n",
      "├─Sequential: 1-4                             --\n",
      "|    └─Conv2d: 2-17                           160\n",
      "|    └─BatchNorm2d: 2-18                      32\n",
      "|    └─ReLU: 2-19                             --\n",
      "|    └─MaxPool2d: 2-20                        --\n",
      "|    └─Dropout: 2-21                          --\n",
      "|    └─Conv2d: 2-22                           4,640\n",
      "|    └─BatchNorm2d: 2-23                      64\n",
      "|    └─ReLU: 2-24                             --\n",
      "|    └─MaxPool2d: 2-25                        --\n",
      "|    └─Dropout: 2-26                          --\n",
      "|    └─Conv2d: 2-27                           18,496\n",
      "|    └─BatchNorm2d: 2-28                      128\n",
      "|    └─ReLU: 2-29                             --\n",
      "|    └─MaxPool2d: 2-30                        --\n",
      "|    └─Dropout: 2-31                          --\n",
      "├─Linear: 1-5                                 8,520\n",
      "├─Softmax: 1-6                                --\n",
      "======================================================================\n",
      "Total params: 248,488\n",
      "Trainable params: 248,488\n",
      "Non-trainable params: 0\n",
      "======================================================================\n"
     ]
    },
    {
     "data": {
      "text/plain": [
       "======================================================================\n",
       "Layer (type:depth-idx)                        Param #\n",
       "======================================================================\n",
       "├─MaxPool2d: 1-1                              --\n",
       "├─TransformerEncoder: 1-2                     --\n",
       "|    └─ModuleList: 2-1                        --\n",
       "|    |    └─TransformerEncoderLayer: 3-1      48,232\n",
       "|    |    └─TransformerEncoderLayer: 3-2      48,232\n",
       "|    |    └─TransformerEncoderLayer: 3-3      48,232\n",
       "|    |    └─TransformerEncoderLayer: 3-4      48,232\n",
       "├─Sequential: 1-3                             --\n",
       "|    └─Conv2d: 2-2                            160\n",
       "|    └─BatchNorm2d: 2-3                       32\n",
       "|    └─ReLU: 2-4                              --\n",
       "|    └─MaxPool2d: 2-5                         --\n",
       "|    └─Dropout: 2-6                           --\n",
       "|    └─Conv2d: 2-7                            4,640\n",
       "|    └─BatchNorm2d: 2-8                       64\n",
       "|    └─ReLU: 2-9                              --\n",
       "|    └─MaxPool2d: 2-10                        --\n",
       "|    └─Dropout: 2-11                          --\n",
       "|    └─Conv2d: 2-12                           18,496\n",
       "|    └─BatchNorm2d: 2-13                      128\n",
       "|    └─ReLU: 2-14                             --\n",
       "|    └─MaxPool2d: 2-15                        --\n",
       "|    └─Dropout: 2-16                          --\n",
       "├─Sequential: 1-4                             --\n",
       "|    └─Conv2d: 2-17                           160\n",
       "|    └─BatchNorm2d: 2-18                      32\n",
       "|    └─ReLU: 2-19                             --\n",
       "|    └─MaxPool2d: 2-20                        --\n",
       "|    └─Dropout: 2-21                          --\n",
       "|    └─Conv2d: 2-22                           4,640\n",
       "|    └─BatchNorm2d: 2-23                      64\n",
       "|    └─ReLU: 2-24                             --\n",
       "|    └─MaxPool2d: 2-25                        --\n",
       "|    └─Dropout: 2-26                          --\n",
       "|    └─Conv2d: 2-27                           18,496\n",
       "|    └─BatchNorm2d: 2-28                      128\n",
       "|    └─ReLU: 2-29                             --\n",
       "|    └─MaxPool2d: 2-30                        --\n",
       "|    └─Dropout: 2-31                          --\n",
       "├─Linear: 1-5                                 8,520\n",
       "├─Softmax: 1-6                                --\n",
       "======================================================================\n",
       "Total params: 248,488\n",
       "Trainable params: 248,488\n",
       "Non-trainable params: 0\n",
       "======================================================================"
      ]
     },
     "execution_count": 27,
     "metadata": {},
     "output_type": "execute_result"
    }
   ],
   "source": [
    "from torchsummary import summary\n",
    "\n",
    "# need device to instantiate model\n",
    "device = 'cpu' # 'cuda'\n",
    "\n",
    "# instantiate model for 8 emotions and move to GPU \n",
    "model = parallel_all_you_want(len(emotions_dict)).to(device)\n",
    "\n",
    "# include input feature map dims in call to summary()\n",
    "summary(model, input_size=(1,40,282))\n"
   ]
  },
  {
   "cell_type": "markdown",
   "metadata": {
    "id": "GVZg7zuB60Dm"
   },
   "source": [
    "## Define Loss/Criterion\n",
    "\n",
    "We must define the loss function (criterion per PyTorch notation) for the backwards pass of each training iteration. Since our classes our balanced we don't need to specify a class-weight parameter (to balance classes).\n",
    "\n",
    "**PyTorch nn.CrossEntropyLoss() implements log softmax and negative log likelihood loss (nn.NLLoss() --> nn.LogSoftmax())\n",
    "We use log softmax for computation benefits and faster gradient optimization. Log softmax heavily penalizes the model when failing to predict the correct class.**"
   ]
  },
  {
   "cell_type": "code",
   "execution_count": 28,
   "metadata": {
    "id": "F4IudptP60Dm"
   },
   "outputs": [],
   "source": [
    "# define loss function; CrossEntropyLoss() fairly standard for multiclass problems \n",
    "def criterion(predictions, targets): \n",
    "    return nn.CrossEntropyLoss()(input=predictions, target=targets)"
   ]
  },
  {
   "cell_type": "markdown",
   "metadata": {
    "id": "_hF-f9Sl60Do"
   },
   "source": [
    "## Choose Optimizer\n",
    "\n",
    "I used Adam to train an MLP due to its faster compute and convergence. Adam is great and usually works well with defaults.\n",
    "\n",
    "**However, a lot of 2018-2020 papers still use SGD. It seems to me that the reason is SGD with properly tuned momentum sometimes (often) converges to lower loss with enough training.**\n",
    "\n",
    "**Quoting [Wilson et al, 2017](https://arxiv.org/abs/1705.08292):** \n",
    "\n",
    "    “We observe that the solutions found by adaptive methods generalize worse (often significantly worse) than SGD, even \n",
    "    when these solutions have better training performance. These results suggest that practitioners should reconsider the \n",
    "    use of adaptive methods to train neural networks.\"\n",
    "\n",
    "\n",
    "\"Adaptive methods\" refers to the likes of Adam.\n",
    "   \n",
    "**I took full advantage of plain old SGD by using the highest momentum leading to convergence, plus a generously long training time.**"
   ]
  },
  {
   "cell_type": "code",
   "execution_count": 29,
   "metadata": {
    "id": "LGFjDT1i60Do"
   },
   "outputs": [],
   "source": [
    "optimizer = torch.optim.SGD(model.parameters(),lr=0.01, weight_decay=1e-3, momentum=0.8)"
   ]
  },
  {
   "cell_type": "markdown",
   "metadata": {
    "id": "Mr6Vi4Gs60Dr"
   },
   "source": [
    "## Define Training Step\n",
    "\n",
    "We define a function to return a single training step defining one iteration of our model.\n",
    "\n",
    "    Forward pass output logits and softmax probabilities. \n",
    "\n",
    "    Record the softmax probabilities to track accuracy. \n",
    "\n",
    "    Pass output logits to loss function to compute loss.\n",
    "    \n",
    "    Call backwards pass with loss function (backpropogate errors).\n",
    "    \n",
    "    Tell optimizer to apply one update step to network parameters.\n",
    "    \n",
    "    Zero the accumulated gradient in the optimizer for next iteration.\n",
    "\n"
   ]
  },
  {
   "cell_type": "code",
   "execution_count": 30,
   "metadata": {
    "id": "zPTbQ53_60Dr"
   },
   "outputs": [],
   "source": [
    "# define function to create a single step of the training phase\n",
    "def make_train_step(model, criterion, optimizer):\n",
    "    \n",
    "    # define the training step of the training phase\n",
    "    def train_step(X,Y):\n",
    "        \n",
    "        # forward pass\n",
    "        output_logits, output_softmax = model(X)\n",
    "        predictions = torch.argmax(output_softmax,dim=1)\n",
    "        accuracy = torch.sum(Y==predictions)/float(len(Y))\n",
    "        \n",
    "        # compute loss on logits because nn.CrossEntropyLoss implements log softmax\n",
    "        loss = criterion(output_logits, Y) \n",
    "        \n",
    "        # compute gradients for the optimizer to use \n",
    "        loss.backward()\n",
    "        \n",
    "        # update network parameters based on gradient stored (by calling loss.backward())\n",
    "        optimizer.step()\n",
    "        \n",
    "        # zero out gradients for next pass\n",
    "        # pytorch accumulates gradients from backwards passes (convenient for RNNs)\n",
    "        optimizer.zero_grad() \n",
    "        \n",
    "        return loss.item(), accuracy*100\n",
    "    return train_step"
   ]
  },
  {
   "cell_type": "markdown",
   "metadata": {
    "id": "xInmb5vS60Dt"
   },
   "source": [
    "## Define Validation Step\n",
    "\n",
    "Define a function to return a single validation step on the 10% X,y tensor pair to get an idea of our model's generalizibiliy as it trains so we know whether and when to stop it and tune hyperparameters. **Make sure we _do not_ update network parameters during validation by setting model to validation mode. Do not waste resources computing gradients in validation phase by setting torch.no_grad().**"
   ]
  },
  {
   "cell_type": "code",
   "execution_count": 31,
   "metadata": {
    "id": "vcQyDxEY60Du"
   },
   "outputs": [],
   "source": [
    "def make_validate_fnc(model,criterion):\n",
    "    def validate(X,Y):\n",
    "        \n",
    "        # don't want to update any network parameters on validation passes: don't need gradient\n",
    "        # wrap in torch.no_grad to save memory and compute in validation phase: \n",
    "        with torch.no_grad(): \n",
    "            \n",
    "            # set model to validation phase i.e. turn off dropout and batchnorm layers \n",
    "            model.eval()\n",
    "      \n",
    "            # get the model's predictions on the validation set\n",
    "            output_logits, output_softmax = model(X)\n",
    "            predictions = torch.argmax(output_softmax,dim=1)\n",
    "\n",
    "            # calculate the mean accuracy over the entire validation set\n",
    "            accuracy = torch.sum(Y==predictions)/float(len(Y))\n",
    "            \n",
    "            # compute error from logits (nn.crossentropy implements softmax)\n",
    "            loss = criterion(output_logits,Y)\n",
    "            \n",
    "        return loss.item(), accuracy*100, predictions\n",
    "    return validate"
   ]
  },
  {
   "cell_type": "markdown",
   "metadata": {
    "id": "gQB8sZnL60Dx"
   },
   "source": [
    "# Make Checkpoint Functions\n",
    "It's a good idea to save checkpoints of the model state after each epoch. We'll then interrupt training when satisfied with the model's performance and load the appropriate model binary. \n",
    "\n",
    "- Resume training if hardware/software fails\n",
    "- Save compute re-training by training from checkpoint after tuning\n",
    "- Implement early stopping easily by keeping snapshot of most performant version of model\n",
    "- Google Colab throttles GPU usage eventually; can't keep re-training from scratch indefinitely"
   ]
  },
  {
   "cell_type": "code",
   "execution_count": 32,
   "metadata": {
    "id": "rNxhD9-p60Dy"
   },
   "outputs": [],
   "source": [
    "def make_save_checkpoint(): \n",
    "    def save_checkpoint(optimizer, model, epoch, filename):\n",
    "        checkpoint_dict = {\n",
    "            'optimizer': optimizer.state_dict(),\n",
    "            'model': model.state_dict(),\n",
    "            'epoch': epoch\n",
    "        }\n",
    "        torch.save(checkpoint_dict, filename)\n",
    "    return save_checkpoint\n",
    "\n",
    "def load_checkpoint(optimizer, model, filename):\n",
    "    checkpoint_dict = torch.load(filename)\n",
    "    epoch = checkpoint_dict['epoch']\n",
    "    model.load_state_dict(checkpoint_dict['model'])\n",
    "    if optimizer is not None:\n",
    "        optimizer.load_state_dict(checkpoint_dict['optimizer'])\n",
    "    return epoch"
   ]
  },
  {
   "cell_type": "markdown",
   "metadata": {
    "id": "jOiUNC0k60D3"
   },
   "source": [
    "# Build Training Loop\n",
    "\n",
    "Build the complete training loop using the training and validation step functions. \n",
    "\n",
    "This model is not reasonable to train on CPU, but it's a good way to check if the model compiled successfully. I'm using Google Colab's free GPU (K80 - 24GB RAM ~2.9 TFLOPs). This model is pretty big (383,688 params to learn if I've checked the math correctly) but trains to convergence within ~10 minutes on a K80.\n",
    "\n",
    "Pick the number of epochs (complete pass of all training samples) to use that is higher than reasonable so the model does not terminate just before convergence - I manually stopped it when it converges. \n",
    "\n",
    "**Minibatch size:** [From Yann LeCun's twitter](https://twitter.com/ylecun/status/989610208497360896?lang=en) (with LeCun facebook comment appended) [citing this 2018 minibatch paper](https://arxiv.org/abs/1804.07612):\n",
    "\n",
    "\n",
    "    \n",
    "    \"Training with large minibatches is bad for your health. More importantly, it's bad for your test error. Friends dont \n",
    "    let friends use minibatches larger than 32. Let's face it: the only people have switched to minibatch sizes larger than one since 2012 is because GPUs are inefficient for batch sizes smaller than 32. That's a terrible reason. It just means our hardware sucks.\" \n",
    "    \n",
    "\n",
    "\n",
    "<br>\n",
    "That's about it for the logic. Here's the full training loop:\n",
    "\n",
    "    --Setup--\n",
    "    \n",
    "    Instantiate model.\n",
    "\n",
    "    Instantiate training and validation steps with model, loss function, and optimizer. \n",
    "    \n",
    "    Move model to GPU.\n",
    "    \n",
    "        --Epoch--\n",
    "    \n",
    "        Set model to train mode after each post-epoch validation phase completes.\n",
    "    \n",
    "        Shuffle the training set for each  epoch, reset epoch loss and accuracy. \n",
    "        \n",
    "            --Iteration--\n",
    "    \n",
    "            Create X_train, y_train minibatch tensors for each iteration and move tensors to GPU.\n",
    "            \n",
    "            Take 1 train step with X_train, y_train minibatch tensors.\n",
    "\n",
    "            Aggregate accuracy and loss from each iteration, but only record after each epoch. \n",
    "            \n",
    "        --Epoch--\n",
    "\n",
    "        Compute and record validation accuracy for the entire epoch to keep track of learning progress. \n",
    "\n",
    "        Print training metrics after each epoch."
   ]
  },
  {
   "cell_type": "code",
   "execution_count": 35,
   "metadata": {
    "colab": {
     "base_uri": "https://localhost:8080/",
     "height": 50
    },
    "id": "eg7x2boi60D3",
    "outputId": "995820c9-4479-405d-91b4-0aed608dcd86"
   },
   "outputs": [
    {
     "name": "stdout",
     "output_type": "stream",
     "text": [
      "cpu selected\n",
      "Number of trainable params:  248488\n"
     ]
    }
   ],
   "source": [
    "# get training set size to calculate # iterations and minibatch indices\n",
    "train_size = X_train.shape[0]\n",
    "\n",
    "# pick minibatch size (of 32... always)\n",
    "minibatch = 32\n",
    "\n",
    "# set device to GPU\n",
    "device = 'cuda' if torch.cuda.is_available() else 'cpu'\n",
    "print(f'{device} selected')\n",
    "\n",
    "# instantiate model and move to GPU for training\n",
    "model = parallel_all_you_want(num_emotions=len(emotions_dict)).to(device) \n",
    "print('Number of trainable params: ',sum(p.numel() for p in model.parameters()) )\n",
    "\n",
    "# encountered bugs in google colab only, unless I explicitly defined optimizer in this cell...\n",
    "optimizer = torch.optim.SGD(model.parameters(),lr=0.01, weight_decay=1e-3, momentum=0.8)\n",
    "\n",
    "# instantiate the checkpoint save function\n",
    "save_checkpoint = make_save_checkpoint()\n",
    "\n",
    "# instantiate the training step function \n",
    "train_step = make_train_step(model, criterion, optimizer=optimizer)\n",
    "\n",
    "# instantiate the validation loop function\n",
    "validate = make_validate_fnc(model,criterion)\n",
    "\n",
    "# instantiate lists to hold scalar performance metrics to plot later\n",
    "train_losses=[]\n",
    "valid_losses = []\n",
    "\n",
    "# create training loop for one complete epoch (entire training set)\n",
    "def train(optimizer, model, num_epochs, X_train, Y_train, X_valid, Y_valid):\n",
    "\n",
    "    for epoch in range(num_epochs):\n",
    "        \n",
    "        # set model to train phase\n",
    "        model.train()         \n",
    "        \n",
    "        # shuffle entire training set in each epoch to randomize minibatch order\n",
    "        train_indices = np.random.permutation(train_size) \n",
    "        \n",
    "        # shuffle the training set for each epoch:\n",
    "        X_train = X_train[train_indices,:,:,:] \n",
    "        Y_train = Y_train[train_indices]\n",
    "\n",
    "        # instantiate scalar values to keep track of progress after each epoch so we can stop training when appropriate \n",
    "        epoch_acc = 0 \n",
    "        epoch_loss = 0\n",
    "        num_iterations = int(train_size / minibatch)\n",
    "        \n",
    "        # create a loop for each minibatch of 32 samples:\n",
    "        for i in range(num_iterations):\n",
    "            \n",
    "            # we have to track and update minibatch position for the current minibatch\n",
    "            # if we take a random batch position from a set, we almost certainly will skip some of the data in that set\n",
    "            # track minibatch position based on iteration number:\n",
    "            batch_start = i * minibatch \n",
    "            # ensure we don't go out of the bounds of our training set:\n",
    "            batch_end = min(batch_start + minibatch, train_size) \n",
    "            # ensure we don't have an index error\n",
    "            actual_batch_size = batch_end-batch_start \n",
    "            \n",
    "            # get training minibatch with all channnels and 2D feature dims\n",
    "            X = X_train[batch_start:batch_end,:,:,:] \n",
    "            # get training minibatch labels \n",
    "            Y = Y_train[batch_start:batch_end] \n",
    "\n",
    "            # instantiate training tensors\n",
    "            X_tensor = torch.tensor(X, device=device).float() \n",
    "            Y_tensor = torch.tensor(Y, dtype=torch.long,device=device)\n",
    "            \n",
    "            # Pass input tensors thru 1 training step (fwd+backwards pass)\n",
    "            loss, acc = train_step(X_tensor,Y_tensor) \n",
    "            \n",
    "            # aggregate batch accuracy to measure progress of entire epoch\n",
    "            epoch_acc += acc * actual_batch_size / train_size\n",
    "            epoch_loss += loss * actual_batch_size / train_size\n",
    "            \n",
    "            # keep track of the iteration to see if the model's too slow\n",
    "            print('\\r'+f'Epoch {epoch}: iteration {i}/{num_iterations}',end='')\n",
    "        \n",
    "        # create tensors from validation set\n",
    "        X_valid_tensor = torch.tensor(X_valid,device=device).float()\n",
    "        Y_valid_tensor = torch.tensor(Y_valid,dtype=torch.long,device=device)\n",
    "        \n",
    "        # calculate validation metrics to keep track of progress; don't need predictions now\n",
    "        valid_loss, valid_acc, _ = validate(X_valid_tensor,Y_valid_tensor)\n",
    "        \n",
    "        # accumulate scalar performance metrics at each epoch to track and plot later\n",
    "        train_losses.append(epoch_loss)\n",
    "        valid_losses.append(valid_loss)\n",
    "                  \n",
    "        # Save checkpoint of the model\n",
    "        checkpoint_filename = '../models/checkpoints/parallel_all_you_wantFINAL-{:03d}.pkl'.format(epoch)\n",
    "        save_checkpoint(optimizer, model, epoch, checkpoint_filename)\n",
    "        \n",
    "        # keep track of each epoch's progress\n",
    "        print(f'\\nEpoch {epoch} --- loss:{epoch_loss:.3f}, Epoch accuracy:{epoch_acc:.2f}%, Validation loss:{valid_loss:.3f}, Validation accuracy:{valid_acc:.2f}%')\n"
   ]
  },
  {
   "cell_type": "markdown",
   "metadata": {},
   "source": [
    "### Train Model"
   ]
  },
  {
   "cell_type": "code",
   "execution_count": 36,
   "metadata": {
    "colab": {
     "base_uri": "https://localhost:8080/",
     "height": 1000
    },
    "collapsed": true,
    "id": "sie3lrs3XkRf",
    "jupyter": {
     "outputs_hidden": true
    },
    "outputId": "22e9ac29-ceb3-4f42-c989-d81c3f650619"
   },
   "outputs": [
    {
     "name": "stdout",
     "output_type": "stream",
     "text": [
      "Epoch 0: iteration 3/4\n",
      "Epoch 0 --- loss:6.379, Epoch accuracy:10.37%, Validation loss:2.827, Validation accuracy:14.29%\n",
      "Epoch 1: iteration 3/4\n",
      "Epoch 1 --- loss:15.482, Epoch accuracy:16.30%, Validation loss:2.695, Validation accuracy:14.29%\n",
      "Epoch 2: iteration 3/4\n",
      "Epoch 2 --- loss:6.788, Epoch accuracy:15.56%, Validation loss:2.733, Validation accuracy:14.29%\n",
      "Epoch 3: iteration 3/4\n",
      "Epoch 3 --- loss:3.801, Epoch accuracy:21.48%, Validation loss:3.683, Validation accuracy:14.29%\n",
      "Epoch 4: iteration 3/4\n",
      "Epoch 4 --- loss:2.877, Epoch accuracy:27.41%, Validation loss:2.538, Validation accuracy:28.57%\n",
      "Epoch 5: iteration 3/4\n",
      "Epoch 5 --- loss:2.008, Epoch accuracy:32.59%, Validation loss:2.658, Validation accuracy:52.38%\n",
      "Epoch 6: iteration 3/4\n",
      "Epoch 6 --- loss:1.520, Epoch accuracy:31.11%, Validation loss:2.216, Validation accuracy:33.33%\n",
      "Epoch 7: iteration 3/4\n",
      "Epoch 7 --- loss:1.356, Epoch accuracy:41.48%, Validation loss:2.608, Validation accuracy:42.86%\n",
      "Epoch 8: iteration 3/4\n",
      "Epoch 8 --- loss:1.306, Epoch accuracy:48.15%, Validation loss:2.651, Validation accuracy:42.86%\n",
      "Epoch 9: iteration 3/4\n",
      "Epoch 9 --- loss:1.220, Epoch accuracy:46.67%, Validation loss:2.914, Validation accuracy:42.86%\n",
      "Epoch 10: iteration 3/4\n",
      "Epoch 10 --- loss:1.287, Epoch accuracy:48.89%, Validation loss:2.959, Validation accuracy:38.10%\n",
      "Epoch 11: iteration 3/4\n",
      "Epoch 11 --- loss:1.070, Epoch accuracy:56.30%, Validation loss:2.959, Validation accuracy:42.86%\n",
      "Epoch 12: iteration 3/4\n",
      "Epoch 12 --- loss:0.992, Epoch accuracy:58.52%, Validation loss:3.092, Validation accuracy:42.86%\n",
      "Epoch 13: iteration 3/4\n",
      "Epoch 13 --- loss:0.886, Epoch accuracy:65.93%, Validation loss:3.301, Validation accuracy:38.10%\n",
      "Epoch 14: iteration 3/4\n",
      "Epoch 14 --- loss:0.792, Epoch accuracy:66.67%, Validation loss:3.259, Validation accuracy:38.10%\n",
      "Epoch 15: iteration 3/4\n",
      "Epoch 15 --- loss:0.919, Epoch accuracy:60.74%, Validation loss:3.341, Validation accuracy:42.86%\n",
      "Epoch 16: iteration 3/4\n",
      "Epoch 16 --- loss:0.858, Epoch accuracy:70.37%, Validation loss:3.737, Validation accuracy:42.86%\n",
      "Epoch 17: iteration 3/4\n",
      "Epoch 17 --- loss:0.732, Epoch accuracy:70.37%, Validation loss:3.751, Validation accuracy:38.10%\n",
      "Epoch 18: iteration 3/4\n",
      "Epoch 18 --- loss:0.665, Epoch accuracy:77.78%, Validation loss:3.842, Validation accuracy:33.33%\n",
      "Epoch 19: iteration 3/4\n",
      "Epoch 19 --- loss:0.739, Epoch accuracy:71.11%, Validation loss:3.915, Validation accuracy:33.33%\n",
      "Epoch 20: iteration 3/4\n",
      "Epoch 20 --- loss:0.782, Epoch accuracy:65.19%, Validation loss:3.967, Validation accuracy:38.10%\n",
      "Epoch 21: iteration 3/4\n",
      "Epoch 21 --- loss:0.646, Epoch accuracy:76.30%, Validation loss:3.840, Validation accuracy:42.86%\n",
      "Epoch 22: iteration 3/4\n",
      "Epoch 22 --- loss:0.673, Epoch accuracy:73.33%, Validation loss:4.022, Validation accuracy:38.10%\n",
      "Epoch 23: iteration 3/4\n",
      "Epoch 23 --- loss:0.661, Epoch accuracy:71.85%, Validation loss:4.268, Validation accuracy:33.33%\n",
      "Epoch 24: iteration 3/4\n",
      "Epoch 24 --- loss:0.526, Epoch accuracy:82.96%, Validation loss:4.245, Validation accuracy:38.10%\n",
      "Epoch 25: iteration 3/4\n",
      "Epoch 25 --- loss:0.569, Epoch accuracy:75.56%, Validation loss:4.579, Validation accuracy:38.10%\n",
      "Epoch 26: iteration 3/4\n",
      "Epoch 26 --- loss:0.579, Epoch accuracy:74.81%, Validation loss:5.064, Validation accuracy:38.10%\n",
      "Epoch 27: iteration 3/4\n",
      "Epoch 27 --- loss:0.569, Epoch accuracy:73.33%, Validation loss:4.898, Validation accuracy:38.10%\n",
      "Epoch 28: iteration 3/4\n",
      "Epoch 28 --- loss:0.492, Epoch accuracy:83.70%, Validation loss:4.496, Validation accuracy:38.10%\n",
      "Epoch 29: iteration 3/4\n",
      "Epoch 29 --- loss:0.386, Epoch accuracy:85.19%, Validation loss:4.539, Validation accuracy:38.10%\n",
      "Epoch 30: iteration 3/4\n",
      "Epoch 30 --- loss:0.414, Epoch accuracy:82.22%, Validation loss:5.040, Validation accuracy:42.86%\n",
      "Epoch 31: iteration 3/4\n",
      "Epoch 31 --- loss:0.345, Epoch accuracy:87.41%, Validation loss:4.964, Validation accuracy:38.10%\n",
      "Epoch 32: iteration 3/4\n",
      "Epoch 32 --- loss:0.454, Epoch accuracy:80.74%, Validation loss:4.960, Validation accuracy:38.10%\n",
      "Epoch 33: iteration 3/4\n",
      "Epoch 33 --- loss:0.505, Epoch accuracy:77.04%, Validation loss:5.202, Validation accuracy:38.10%\n",
      "Epoch 34: iteration 3/4\n",
      "Epoch 34 --- loss:0.382, Epoch accuracy:84.44%, Validation loss:5.184, Validation accuracy:33.33%\n",
      "Epoch 35: iteration 0/4"
     ]
    },
    {
     "ename": "KeyboardInterrupt",
     "evalue": "",
     "output_type": "error",
     "traceback": [
      "\u001b[0;31m---------------------------------------------------------------------------\u001b[0m",
      "\u001b[0;31mKeyboardInterrupt\u001b[0m                         Traceback (most recent call last)",
      "Cell \u001b[0;32mIn[36], line 5\u001b[0m\n\u001b[1;32m      2\u001b[0m num_epochs \u001b[38;5;241m=\u001b[39m \u001b[38;5;241m500\u001b[39m\n\u001b[1;32m      4\u001b[0m \u001b[38;5;66;03m# train it!\u001b[39;00m\n\u001b[0;32m----> 5\u001b[0m \u001b[43mtrain\u001b[49m\u001b[43m(\u001b[49m\u001b[43moptimizer\u001b[49m\u001b[43m,\u001b[49m\u001b[43m \u001b[49m\u001b[43mmodel\u001b[49m\u001b[43m,\u001b[49m\u001b[43m \u001b[49m\u001b[43mnum_epochs\u001b[49m\u001b[43m,\u001b[49m\u001b[43m \u001b[49m\u001b[43mX_train\u001b[49m\u001b[43m,\u001b[49m\u001b[43m \u001b[49m\u001b[43my_train\u001b[49m\u001b[43m,\u001b[49m\u001b[43m \u001b[49m\u001b[43mX_valid\u001b[49m\u001b[43m,\u001b[49m\u001b[43m \u001b[49m\u001b[43my_valid\u001b[49m\u001b[43m)\u001b[49m\n",
      "Cell \u001b[0;32mIn[35], line 73\u001b[0m, in \u001b[0;36mtrain\u001b[0;34m(optimizer, model, num_epochs, X_train, Y_train, X_valid, Y_valid)\u001b[0m\n\u001b[1;32m     70\u001b[0m Y_tensor \u001b[38;5;241m=\u001b[39m torch\u001b[38;5;241m.\u001b[39mtensor(Y, dtype\u001b[38;5;241m=\u001b[39mtorch\u001b[38;5;241m.\u001b[39mlong,device\u001b[38;5;241m=\u001b[39mdevice)\n\u001b[1;32m     72\u001b[0m \u001b[38;5;66;03m# Pass input tensors thru 1 training step (fwd+backwards pass)\u001b[39;00m\n\u001b[0;32m---> 73\u001b[0m loss, acc \u001b[38;5;241m=\u001b[39m \u001b[43mtrain_step\u001b[49m\u001b[43m(\u001b[49m\u001b[43mX_tensor\u001b[49m\u001b[43m,\u001b[49m\u001b[43mY_tensor\u001b[49m\u001b[43m)\u001b[49m \n\u001b[1;32m     75\u001b[0m \u001b[38;5;66;03m# aggregate batch accuracy to measure progress of entire epoch\u001b[39;00m\n\u001b[1;32m     76\u001b[0m epoch_acc \u001b[38;5;241m+\u001b[39m\u001b[38;5;241m=\u001b[39m acc \u001b[38;5;241m*\u001b[39m actual_batch_size \u001b[38;5;241m/\u001b[39m train_size\n",
      "Cell \u001b[0;32mIn[30], line 8\u001b[0m, in \u001b[0;36mmake_train_step.<locals>.train_step\u001b[0;34m(X, Y)\u001b[0m\n\u001b[1;32m      5\u001b[0m \u001b[38;5;28;01mdef\u001b[39;00m \u001b[38;5;21mtrain_step\u001b[39m(X,Y):\n\u001b[1;32m      6\u001b[0m     \n\u001b[1;32m      7\u001b[0m     \u001b[38;5;66;03m# forward pass\u001b[39;00m\n\u001b[0;32m----> 8\u001b[0m     output_logits, output_softmax \u001b[38;5;241m=\u001b[39m \u001b[43mmodel\u001b[49m\u001b[43m(\u001b[49m\u001b[43mX\u001b[49m\u001b[43m)\u001b[49m\n\u001b[1;32m      9\u001b[0m     predictions \u001b[38;5;241m=\u001b[39m torch\u001b[38;5;241m.\u001b[39margmax(output_softmax,dim\u001b[38;5;241m=\u001b[39m\u001b[38;5;241m1\u001b[39m)\n\u001b[1;32m     10\u001b[0m     accuracy \u001b[38;5;241m=\u001b[39m torch\u001b[38;5;241m.\u001b[39msum(Y\u001b[38;5;241m==\u001b[39mpredictions)\u001b[38;5;241m/\u001b[39m\u001b[38;5;28mfloat\u001b[39m(\u001b[38;5;28mlen\u001b[39m(Y))\n",
      "File \u001b[0;32m/scratch/work/huangg5/conda_envs/pytorch-env/lib/python3.12/site-packages/torch/nn/modules/module.py:1511\u001b[0m, in \u001b[0;36mModule._wrapped_call_impl\u001b[0;34m(self, *args, **kwargs)\u001b[0m\n\u001b[1;32m   1509\u001b[0m     \u001b[38;5;28;01mreturn\u001b[39;00m \u001b[38;5;28mself\u001b[39m\u001b[38;5;241m.\u001b[39m_compiled_call_impl(\u001b[38;5;241m*\u001b[39margs, \u001b[38;5;241m*\u001b[39m\u001b[38;5;241m*\u001b[39mkwargs)  \u001b[38;5;66;03m# type: ignore[misc]\u001b[39;00m\n\u001b[1;32m   1510\u001b[0m \u001b[38;5;28;01melse\u001b[39;00m:\n\u001b[0;32m-> 1511\u001b[0m     \u001b[38;5;28;01mreturn\u001b[39;00m \u001b[38;5;28;43mself\u001b[39;49m\u001b[38;5;241;43m.\u001b[39;49m\u001b[43m_call_impl\u001b[49m\u001b[43m(\u001b[49m\u001b[38;5;241;43m*\u001b[39;49m\u001b[43margs\u001b[49m\u001b[43m,\u001b[49m\u001b[43m \u001b[49m\u001b[38;5;241;43m*\u001b[39;49m\u001b[38;5;241;43m*\u001b[39;49m\u001b[43mkwargs\u001b[49m\u001b[43m)\u001b[49m\n",
      "File \u001b[0;32m/scratch/work/huangg5/conda_envs/pytorch-env/lib/python3.12/site-packages/torch/nn/modules/module.py:1520\u001b[0m, in \u001b[0;36mModule._call_impl\u001b[0;34m(self, *args, **kwargs)\u001b[0m\n\u001b[1;32m   1515\u001b[0m \u001b[38;5;66;03m# If we don't have any hooks, we want to skip the rest of the logic in\u001b[39;00m\n\u001b[1;32m   1516\u001b[0m \u001b[38;5;66;03m# this function, and just call forward.\u001b[39;00m\n\u001b[1;32m   1517\u001b[0m \u001b[38;5;28;01mif\u001b[39;00m \u001b[38;5;129;01mnot\u001b[39;00m (\u001b[38;5;28mself\u001b[39m\u001b[38;5;241m.\u001b[39m_backward_hooks \u001b[38;5;129;01mor\u001b[39;00m \u001b[38;5;28mself\u001b[39m\u001b[38;5;241m.\u001b[39m_backward_pre_hooks \u001b[38;5;129;01mor\u001b[39;00m \u001b[38;5;28mself\u001b[39m\u001b[38;5;241m.\u001b[39m_forward_hooks \u001b[38;5;129;01mor\u001b[39;00m \u001b[38;5;28mself\u001b[39m\u001b[38;5;241m.\u001b[39m_forward_pre_hooks\n\u001b[1;32m   1518\u001b[0m         \u001b[38;5;129;01mor\u001b[39;00m _global_backward_pre_hooks \u001b[38;5;129;01mor\u001b[39;00m _global_backward_hooks\n\u001b[1;32m   1519\u001b[0m         \u001b[38;5;129;01mor\u001b[39;00m _global_forward_hooks \u001b[38;5;129;01mor\u001b[39;00m _global_forward_pre_hooks):\n\u001b[0;32m-> 1520\u001b[0m     \u001b[38;5;28;01mreturn\u001b[39;00m \u001b[43mforward_call\u001b[49m\u001b[43m(\u001b[49m\u001b[38;5;241;43m*\u001b[39;49m\u001b[43margs\u001b[49m\u001b[43m,\u001b[49m\u001b[43m \u001b[49m\u001b[38;5;241;43m*\u001b[39;49m\u001b[38;5;241;43m*\u001b[39;49m\u001b[43mkwargs\u001b[49m\u001b[43m)\u001b[49m\n\u001b[1;32m   1522\u001b[0m \u001b[38;5;28;01mtry\u001b[39;00m:\n\u001b[1;32m   1523\u001b[0m     result \u001b[38;5;241m=\u001b[39m \u001b[38;5;28;01mNone\u001b[39;00m\n",
      "Cell \u001b[0;32mIn[23], line 132\u001b[0m, in \u001b[0;36mparallel_all_you_want.forward\u001b[0;34m(self, x)\u001b[0m\n\u001b[1;32m    127\u001b[0m \u001b[38;5;28;01mdef\u001b[39;00m \u001b[38;5;21mforward\u001b[39m(\u001b[38;5;28mself\u001b[39m,x):\n\u001b[1;32m    128\u001b[0m     \n\u001b[1;32m    129\u001b[0m     \u001b[38;5;66;03m############ 1st parallel Conv2D block: 4 Convolutional layers ############################\u001b[39;00m\n\u001b[1;32m    130\u001b[0m     \u001b[38;5;66;03m# create final feature embedding from 1st convolutional layer \u001b[39;00m\n\u001b[1;32m    131\u001b[0m     \u001b[38;5;66;03m# input features pased through 4 sequential 2D convolutional layers\u001b[39;00m\n\u001b[0;32m--> 132\u001b[0m     conv2d_embedding1 \u001b[38;5;241m=\u001b[39m \u001b[38;5;28;43mself\u001b[39;49m\u001b[38;5;241;43m.\u001b[39;49m\u001b[43mconv2Dblock1\u001b[49m\u001b[43m(\u001b[49m\u001b[43mx\u001b[49m\u001b[43m)\u001b[49m \u001b[38;5;66;03m# x == N/batch * channel * freq * time\u001b[39;00m\n\u001b[1;32m    134\u001b[0m     \u001b[38;5;66;03m# flatten final 64*1*8 feature map from convolutional layers to length 512 1D array \u001b[39;00m\n\u001b[1;32m    135\u001b[0m     \u001b[38;5;66;03m# skip the 1st (N/batch) dimension when flattening\u001b[39;00m\n\u001b[1;32m    136\u001b[0m     conv2d_embedding1 \u001b[38;5;241m=\u001b[39m torch\u001b[38;5;241m.\u001b[39mflatten(conv2d_embedding1, start_dim\u001b[38;5;241m=\u001b[39m\u001b[38;5;241m1\u001b[39m) \n",
      "File \u001b[0;32m/scratch/work/huangg5/conda_envs/pytorch-env/lib/python3.12/site-packages/torch/nn/modules/module.py:1511\u001b[0m, in \u001b[0;36mModule._wrapped_call_impl\u001b[0;34m(self, *args, **kwargs)\u001b[0m\n\u001b[1;32m   1509\u001b[0m     \u001b[38;5;28;01mreturn\u001b[39;00m \u001b[38;5;28mself\u001b[39m\u001b[38;5;241m.\u001b[39m_compiled_call_impl(\u001b[38;5;241m*\u001b[39margs, \u001b[38;5;241m*\u001b[39m\u001b[38;5;241m*\u001b[39mkwargs)  \u001b[38;5;66;03m# type: ignore[misc]\u001b[39;00m\n\u001b[1;32m   1510\u001b[0m \u001b[38;5;28;01melse\u001b[39;00m:\n\u001b[0;32m-> 1511\u001b[0m     \u001b[38;5;28;01mreturn\u001b[39;00m \u001b[38;5;28;43mself\u001b[39;49m\u001b[38;5;241;43m.\u001b[39;49m\u001b[43m_call_impl\u001b[49m\u001b[43m(\u001b[49m\u001b[38;5;241;43m*\u001b[39;49m\u001b[43margs\u001b[49m\u001b[43m,\u001b[49m\u001b[43m \u001b[49m\u001b[38;5;241;43m*\u001b[39;49m\u001b[38;5;241;43m*\u001b[39;49m\u001b[43mkwargs\u001b[49m\u001b[43m)\u001b[49m\n",
      "File \u001b[0;32m/scratch/work/huangg5/conda_envs/pytorch-env/lib/python3.12/site-packages/torch/nn/modules/module.py:1520\u001b[0m, in \u001b[0;36mModule._call_impl\u001b[0;34m(self, *args, **kwargs)\u001b[0m\n\u001b[1;32m   1515\u001b[0m \u001b[38;5;66;03m# If we don't have any hooks, we want to skip the rest of the logic in\u001b[39;00m\n\u001b[1;32m   1516\u001b[0m \u001b[38;5;66;03m# this function, and just call forward.\u001b[39;00m\n\u001b[1;32m   1517\u001b[0m \u001b[38;5;28;01mif\u001b[39;00m \u001b[38;5;129;01mnot\u001b[39;00m (\u001b[38;5;28mself\u001b[39m\u001b[38;5;241m.\u001b[39m_backward_hooks \u001b[38;5;129;01mor\u001b[39;00m \u001b[38;5;28mself\u001b[39m\u001b[38;5;241m.\u001b[39m_backward_pre_hooks \u001b[38;5;129;01mor\u001b[39;00m \u001b[38;5;28mself\u001b[39m\u001b[38;5;241m.\u001b[39m_forward_hooks \u001b[38;5;129;01mor\u001b[39;00m \u001b[38;5;28mself\u001b[39m\u001b[38;5;241m.\u001b[39m_forward_pre_hooks\n\u001b[1;32m   1518\u001b[0m         \u001b[38;5;129;01mor\u001b[39;00m _global_backward_pre_hooks \u001b[38;5;129;01mor\u001b[39;00m _global_backward_hooks\n\u001b[1;32m   1519\u001b[0m         \u001b[38;5;129;01mor\u001b[39;00m _global_forward_hooks \u001b[38;5;129;01mor\u001b[39;00m _global_forward_pre_hooks):\n\u001b[0;32m-> 1520\u001b[0m     \u001b[38;5;28;01mreturn\u001b[39;00m \u001b[43mforward_call\u001b[49m\u001b[43m(\u001b[49m\u001b[38;5;241;43m*\u001b[39;49m\u001b[43margs\u001b[49m\u001b[43m,\u001b[49m\u001b[43m \u001b[49m\u001b[38;5;241;43m*\u001b[39;49m\u001b[38;5;241;43m*\u001b[39;49m\u001b[43mkwargs\u001b[49m\u001b[43m)\u001b[49m\n\u001b[1;32m   1522\u001b[0m \u001b[38;5;28;01mtry\u001b[39;00m:\n\u001b[1;32m   1523\u001b[0m     result \u001b[38;5;241m=\u001b[39m \u001b[38;5;28;01mNone\u001b[39;00m\n",
      "File \u001b[0;32m/scratch/work/huangg5/conda_envs/pytorch-env/lib/python3.12/site-packages/torch/nn/modules/container.py:217\u001b[0m, in \u001b[0;36mSequential.forward\u001b[0;34m(self, input)\u001b[0m\n\u001b[1;32m    215\u001b[0m \u001b[38;5;28;01mdef\u001b[39;00m \u001b[38;5;21mforward\u001b[39m(\u001b[38;5;28mself\u001b[39m, \u001b[38;5;28minput\u001b[39m):\n\u001b[1;32m    216\u001b[0m     \u001b[38;5;28;01mfor\u001b[39;00m module \u001b[38;5;129;01min\u001b[39;00m \u001b[38;5;28mself\u001b[39m:\n\u001b[0;32m--> 217\u001b[0m         \u001b[38;5;28minput\u001b[39m \u001b[38;5;241m=\u001b[39m \u001b[43mmodule\u001b[49m\u001b[43m(\u001b[49m\u001b[38;5;28;43minput\u001b[39;49m\u001b[43m)\u001b[49m\n\u001b[1;32m    218\u001b[0m     \u001b[38;5;28;01mreturn\u001b[39;00m \u001b[38;5;28minput\u001b[39m\n",
      "File \u001b[0;32m/scratch/work/huangg5/conda_envs/pytorch-env/lib/python3.12/site-packages/torch/nn/modules/module.py:1511\u001b[0m, in \u001b[0;36mModule._wrapped_call_impl\u001b[0;34m(self, *args, **kwargs)\u001b[0m\n\u001b[1;32m   1509\u001b[0m     \u001b[38;5;28;01mreturn\u001b[39;00m \u001b[38;5;28mself\u001b[39m\u001b[38;5;241m.\u001b[39m_compiled_call_impl(\u001b[38;5;241m*\u001b[39margs, \u001b[38;5;241m*\u001b[39m\u001b[38;5;241m*\u001b[39mkwargs)  \u001b[38;5;66;03m# type: ignore[misc]\u001b[39;00m\n\u001b[1;32m   1510\u001b[0m \u001b[38;5;28;01melse\u001b[39;00m:\n\u001b[0;32m-> 1511\u001b[0m     \u001b[38;5;28;01mreturn\u001b[39;00m \u001b[38;5;28;43mself\u001b[39;49m\u001b[38;5;241;43m.\u001b[39;49m\u001b[43m_call_impl\u001b[49m\u001b[43m(\u001b[49m\u001b[38;5;241;43m*\u001b[39;49m\u001b[43margs\u001b[49m\u001b[43m,\u001b[49m\u001b[43m \u001b[49m\u001b[38;5;241;43m*\u001b[39;49m\u001b[38;5;241;43m*\u001b[39;49m\u001b[43mkwargs\u001b[49m\u001b[43m)\u001b[49m\n",
      "File \u001b[0;32m/scratch/work/huangg5/conda_envs/pytorch-env/lib/python3.12/site-packages/torch/nn/modules/module.py:1520\u001b[0m, in \u001b[0;36mModule._call_impl\u001b[0;34m(self, *args, **kwargs)\u001b[0m\n\u001b[1;32m   1515\u001b[0m \u001b[38;5;66;03m# If we don't have any hooks, we want to skip the rest of the logic in\u001b[39;00m\n\u001b[1;32m   1516\u001b[0m \u001b[38;5;66;03m# this function, and just call forward.\u001b[39;00m\n\u001b[1;32m   1517\u001b[0m \u001b[38;5;28;01mif\u001b[39;00m \u001b[38;5;129;01mnot\u001b[39;00m (\u001b[38;5;28mself\u001b[39m\u001b[38;5;241m.\u001b[39m_backward_hooks \u001b[38;5;129;01mor\u001b[39;00m \u001b[38;5;28mself\u001b[39m\u001b[38;5;241m.\u001b[39m_backward_pre_hooks \u001b[38;5;129;01mor\u001b[39;00m \u001b[38;5;28mself\u001b[39m\u001b[38;5;241m.\u001b[39m_forward_hooks \u001b[38;5;129;01mor\u001b[39;00m \u001b[38;5;28mself\u001b[39m\u001b[38;5;241m.\u001b[39m_forward_pre_hooks\n\u001b[1;32m   1518\u001b[0m         \u001b[38;5;129;01mor\u001b[39;00m _global_backward_pre_hooks \u001b[38;5;129;01mor\u001b[39;00m _global_backward_hooks\n\u001b[1;32m   1519\u001b[0m         \u001b[38;5;129;01mor\u001b[39;00m _global_forward_hooks \u001b[38;5;129;01mor\u001b[39;00m _global_forward_pre_hooks):\n\u001b[0;32m-> 1520\u001b[0m     \u001b[38;5;28;01mreturn\u001b[39;00m \u001b[43mforward_call\u001b[49m\u001b[43m(\u001b[49m\u001b[38;5;241;43m*\u001b[39;49m\u001b[43margs\u001b[49m\u001b[43m,\u001b[49m\u001b[43m \u001b[49m\u001b[38;5;241;43m*\u001b[39;49m\u001b[38;5;241;43m*\u001b[39;49m\u001b[43mkwargs\u001b[49m\u001b[43m)\u001b[49m\n\u001b[1;32m   1522\u001b[0m \u001b[38;5;28;01mtry\u001b[39;00m:\n\u001b[1;32m   1523\u001b[0m     result \u001b[38;5;241m=\u001b[39m \u001b[38;5;28;01mNone\u001b[39;00m\n",
      "File \u001b[0;32m/scratch/work/huangg5/conda_envs/pytorch-env/lib/python3.12/site-packages/torch/nn/modules/conv.py:460\u001b[0m, in \u001b[0;36mConv2d.forward\u001b[0;34m(self, input)\u001b[0m\n\u001b[1;32m    459\u001b[0m \u001b[38;5;28;01mdef\u001b[39;00m \u001b[38;5;21mforward\u001b[39m(\u001b[38;5;28mself\u001b[39m, \u001b[38;5;28minput\u001b[39m: Tensor) \u001b[38;5;241m-\u001b[39m\u001b[38;5;241m>\u001b[39m Tensor:\n\u001b[0;32m--> 460\u001b[0m     \u001b[38;5;28;01mreturn\u001b[39;00m \u001b[38;5;28;43mself\u001b[39;49m\u001b[38;5;241;43m.\u001b[39;49m\u001b[43m_conv_forward\u001b[49m\u001b[43m(\u001b[49m\u001b[38;5;28;43minput\u001b[39;49m\u001b[43m,\u001b[49m\u001b[43m \u001b[49m\u001b[38;5;28;43mself\u001b[39;49m\u001b[38;5;241;43m.\u001b[39;49m\u001b[43mweight\u001b[49m\u001b[43m,\u001b[49m\u001b[43m \u001b[49m\u001b[38;5;28;43mself\u001b[39;49m\u001b[38;5;241;43m.\u001b[39;49m\u001b[43mbias\u001b[49m\u001b[43m)\u001b[49m\n",
      "File \u001b[0;32m/scratch/work/huangg5/conda_envs/pytorch-env/lib/python3.12/site-packages/torch/nn/modules/conv.py:456\u001b[0m, in \u001b[0;36mConv2d._conv_forward\u001b[0;34m(self, input, weight, bias)\u001b[0m\n\u001b[1;32m    452\u001b[0m \u001b[38;5;28;01mif\u001b[39;00m \u001b[38;5;28mself\u001b[39m\u001b[38;5;241m.\u001b[39mpadding_mode \u001b[38;5;241m!=\u001b[39m \u001b[38;5;124m'\u001b[39m\u001b[38;5;124mzeros\u001b[39m\u001b[38;5;124m'\u001b[39m:\n\u001b[1;32m    453\u001b[0m     \u001b[38;5;28;01mreturn\u001b[39;00m F\u001b[38;5;241m.\u001b[39mconv2d(F\u001b[38;5;241m.\u001b[39mpad(\u001b[38;5;28minput\u001b[39m, \u001b[38;5;28mself\u001b[39m\u001b[38;5;241m.\u001b[39m_reversed_padding_repeated_twice, mode\u001b[38;5;241m=\u001b[39m\u001b[38;5;28mself\u001b[39m\u001b[38;5;241m.\u001b[39mpadding_mode),\n\u001b[1;32m    454\u001b[0m                     weight, bias, \u001b[38;5;28mself\u001b[39m\u001b[38;5;241m.\u001b[39mstride,\n\u001b[1;32m    455\u001b[0m                     _pair(\u001b[38;5;241m0\u001b[39m), \u001b[38;5;28mself\u001b[39m\u001b[38;5;241m.\u001b[39mdilation, \u001b[38;5;28mself\u001b[39m\u001b[38;5;241m.\u001b[39mgroups)\n\u001b[0;32m--> 456\u001b[0m \u001b[38;5;28;01mreturn\u001b[39;00m \u001b[43mF\u001b[49m\u001b[38;5;241;43m.\u001b[39;49m\u001b[43mconv2d\u001b[49m\u001b[43m(\u001b[49m\u001b[38;5;28;43minput\u001b[39;49m\u001b[43m,\u001b[49m\u001b[43m \u001b[49m\u001b[43mweight\u001b[49m\u001b[43m,\u001b[49m\u001b[43m \u001b[49m\u001b[43mbias\u001b[49m\u001b[43m,\u001b[49m\u001b[43m \u001b[49m\u001b[38;5;28;43mself\u001b[39;49m\u001b[38;5;241;43m.\u001b[39;49m\u001b[43mstride\u001b[49m\u001b[43m,\u001b[49m\n\u001b[1;32m    457\u001b[0m \u001b[43m                \u001b[49m\u001b[38;5;28;43mself\u001b[39;49m\u001b[38;5;241;43m.\u001b[39;49m\u001b[43mpadding\u001b[49m\u001b[43m,\u001b[49m\u001b[43m \u001b[49m\u001b[38;5;28;43mself\u001b[39;49m\u001b[38;5;241;43m.\u001b[39;49m\u001b[43mdilation\u001b[49m\u001b[43m,\u001b[49m\u001b[43m \u001b[49m\u001b[38;5;28;43mself\u001b[39;49m\u001b[38;5;241;43m.\u001b[39;49m\u001b[43mgroups\u001b[49m\u001b[43m)\u001b[49m\n",
      "\u001b[0;31mKeyboardInterrupt\u001b[0m: "
     ]
    }
   ],
   "source": [
    "# choose number of epochs higher than reasonable so we can manually stop training \n",
    "num_epochs = 500\n",
    "\n",
    "# train it!\n",
    "train(optimizer, model, num_epochs, X_train, y_train, X_valid, y_valid)"
   ]
  },
  {
   "cell_type": "markdown",
   "metadata": {
    "id": "cPDpzMtU60D9"
   },
   "source": [
    "# Check the Loss Curve's Behaviour\n",
    "Let's see if we missed something egregious during training. Note that validation sets achieved 78-82% accuracy depending on the random split of data (checked after tuning; random seed was specified before splitting data while tuning the model)."
   ]
  },
  {
   "cell_type": "code",
   "execution_count": 37,
   "metadata": {
    "colab": {
     "base_uri": "https://localhost:8080/",
     "height": 318
    },
    "id": "m4gI1cj460D9",
    "outputId": "18246956-a5b9-4742-c5db-c8ae0488f0bc"
   },
   "outputs": [
    {
     "data": {
      "image/png": "[encoded data removed]",
      "text/plain": [
       "<Figure size 640x480 with 1 Axes>"
      ]
     },
     "metadata": {},
     "output_type": "display_data"
    }
   ],
   "source": [
    "plt.title('Loss Curve for Parallel is All You Want Model')\n",
    "plt.ylabel('Loss', fontsize=16)\n",
    "plt.xlabel('Epoch', fontsize=16)\n",
    "plt.plot(train_losses[:],'b')\n",
    "plt.plot(valid_losses[:],'r')\n",
    "plt.legend(['Training loss','Validation loss'])\n",
    "plt.show()"
   ]
  },
  {
   "cell_type": "markdown",
   "metadata": {
    "id": "9K5xAwdFp7-O"
   },
   "source": [
    "Looks good. Past about 78% validation accuracy, the model begins to overfit on the training set. Note that I ran the final model longer than necessary (500 epochs/20 minutes, vs the 200 epochs/8 minutes it takes to train to convergence as trained on a K80 from Google Colab). "
   ]
  },
  {
   "cell_type": "markdown",
   "metadata": {
    "id": "dOoycLWt60EA"
   },
   "source": [
    "# Load the Trained Model from Checkpoint for Evaluation"
   ]
  },
  {
   "cell_type": "code",
   "execution_count": 42,
   "metadata": {},
   "outputs": [],
   "source": [
    "def load_checkpoint(optimizer, model, filename):\n",
    "    checkpoint_dict = torch.load(filename, map_location=torch.device('cpu'))\n",
    "    epoch = checkpoint_dict['epoch']\n",
    "    model.load_state_dict(checkpoint_dict['model'])\n",
    "    if optimizer is not None:\n",
    "        optimizer.load_state_dict(checkpoint_dict['optimizer'])\n",
    "    return epoch"
   ]
  },
  {
   "cell_type": "code",
   "execution_count": 44,
   "metadata": {
    "colab": {
     "base_uri": "https://localhost:8080/",
     "height": 34
    },
    "id": "7ZMZvY3Z60EA",
    "outputId": "a1793149-4005-47da-eb4d-16b08fb7424c"
   },
   "outputs": [
    {
     "name": "stdout",
     "output_type": "stream",
     "text": [
      "Loaded model from ../models/checkpoints/parallel_all_you_wantFINAL-429.pkl\n"
     ]
    }
   ],
   "source": [
    "# pick load folder  \n",
    "load_folder = '../models/checkpoints'  \n",
    "\n",
    "# pick the epoch to load\n",
    "epoch = '429'\n",
    "model_name = f'parallel_all_you_wantFINAL-{epoch}.pkl'\n",
    "\n",
    "# make full load path\n",
    "load_path = os.path.join(load_folder, model_name)\n",
    "\n",
    "## instantiate empty model and populate with params from binary \n",
    "model = parallel_all_you_want(len(emotions_dict))\n",
    "load_checkpoint(optimizer, model, load_path)\n",
    "\n",
    "print(f'Loaded model from {load_path}')"
   ]
  },
  {
   "cell_type": "markdown",
   "metadata": {
    "id": "At3PtzXZ60ED"
   },
   "source": [
    "# Evaluate the Model on Hold-Out Test Set\n",
    "Fingers crossed for generalizability."
   ]
  },
  {
   "cell_type": "code",
   "execution_count": 45,
   "metadata": {
    "colab": {
     "base_uri": "https://localhost:8080/",
     "height": 34
    },
    "id": "jMw_Eecr60ED",
    "outputId": "d9bec06e-2781-436d-def2-e4730b97d11b"
   },
   "outputs": [
    {
     "name": "stdout",
     "output_type": "stream",
     "text": [
      "Test accuracy is 75.00%\n"
     ]
    }
   ],
   "source": [
    "# reinitialize validation function with model from chosen checkpoint\n",
    "validate = make_validate_fnc(model,criterion)\n",
    "\n",
    "# Convert 4D test feature set array to tensor and move to GPU\n",
    "X_test_tensor = torch.tensor(X_test,device=device).float()\n",
    "# Convert 4D test label set array to tensor and move to GPU\n",
    "y_test_tensor = torch.tensor(y_test,dtype=torch.long,device=device)\n",
    "\n",
    "# Get the model's performance metrics using the validation function we defined\n",
    "test_loss, test_acc, predicted_emotions = validate(X_test_tensor,y_test_tensor)\n",
    "\n",
    "print(f'Test accuracy is {test_acc:.2f}%')"
   ]
  },
  {
   "cell_type": "markdown",
   "metadata": {
    "id": "GTqJD8oPr1VC"
   },
   "source": [
    "Not too shabby. Past epoch 200, test accuracy is between 75-80%; past epoch 400, test accuracy is between 77-80%; the final few epochs' test accuracy is between 78-80% - so there is a marginal amount of learning going on at the very end. \n",
    "\n",
    "For some reference points: **[A May 2020 paper](https://www.sciencedirect.com/science/article/abs/pii/S1746809420300501) claims to have achieved a \"new SOTA\" on RAVDESS speech audio with 71.61% accuracy on 8 emotions**, while [another May 2020 paper](https://ieeexplore.ieee.org/document/9122698) claims to have achieved the \"new SOTA\" with an 90% F1 score on 8 emotions. Both use CNN architectures. However, the paper reporting 90% F1 score is inflated by testing on training samples: [See the GitHub issue on this paper.](https://github.com/marcogdepinto/emotion-classification-from-audio-files/issues/11)\n",
    "\n",
    "From the author with a 90% score: _\"Also, the previous versions of this work used audio features extracted from the videos of the RAVDESS dataset. This particular part of the pipeline has been removed because it was shuffling very similar files in the training and test sets, boosting accuracy of the model as a consequence (overfitting).\"_ \n",
    "\n",
    "The author has augmented the RAVDESS speech audio dataset with speech extracted from video data from RAVDESS - so the **dataset with 90% accuracy contained duplicate samples _before_ being split into training and test sets, causing leakage of test samples into the training set.** For reference, I achieved a 97% accuracy with my model when I similarly augmented the dataset with duplicate speech audio before splitting data. **I corrected this data-leakage issue by augmenting data only _after_ splitting into train/validation/test sets.**\n",
    "\n",
    "This is an excellent example of \"if it's too good to be true\". More conservative estimates are more likely to be reproducible, in my opinion."
   ]
  },
  {
   "cell_type": "markdown",
   "metadata": {
    "id": "oQ-hw8EX60EH"
   },
   "source": [
    "# Analyze Performance on Test Set"
   ]
  },
  {
   "cell_type": "code",
   "execution_count": 97,
   "metadata": {
    "colab": {
     "base_uri": "https://localhost:8080/",
     "height": 481
    },
    "id": "FigquBeQ60EI",
    "outputId": "ebf7848e-1297-43a7-831e-83bc3b500ba1"
   },
   "outputs": [
    {
     "data": {
      "image/png": "[encoded data removed]",
      "text/plain": [
       "<Figure size 1152x432 with 4 Axes>"
      ]
     },
     "metadata": {
      "tags": []
     },
     "output_type": "display_data"
    }
   ],
   "source": [
    "from sklearn.metrics import confusion_matrix\n",
    "import seaborn as sn\n",
    "\n",
    "# because model tested on GPU, move prediction tensor to CPU then convert to array\n",
    "predicted_emotions = predicted_emotions.cpu().numpy()\n",
    "# use labels from test set\n",
    "emotions_groundtruth = y_test\n",
    "\n",
    "# build confusion matrix and normalized confusion matrix\n",
    "conf_matrix = confusion_matrix(emotions_groundtruth, predicted_emotions)\n",
    "conf_matrix_norm = confusion_matrix(emotions_groundtruth, predicted_emotions,normalize='true')\n",
    "\n",
    "# set labels for matrix axes from emotions\n",
    "emotion_names = [emotion for emotion in emotions_dict.values()]\n",
    "\n",
    "# make a confusion matrix with labels using a DataFrame\n",
    "confmatrix_df = pd.DataFrame(conf_matrix, index=emotion_names, columns=emotion_names)\n",
    "confmatrix_df_norm = pd.DataFrame(conf_matrix_norm, index=emotion_names, columns=emotion_names)\n",
    "\n",
    "# plot confusion matrices\n",
    "plt.figure(figsize=(16,6))\n",
    "sn.set(font_scale=1.8) # emotion label and title size\n",
    "plt.subplot(1,2,1)\n",
    "plt.title('Confusion Matrix')\n",
    "sn.heatmap(confmatrix_df, annot=True, annot_kws={\"size\": 18}) #annot_kws is value font\n",
    "plt.subplot(1,2,2)\n",
    "plt.title('Normalized Confusion Matrix')\n",
    "sn.heatmap(confmatrix_df_norm, annot=True, annot_kws={\"size\": 13}) #annot_kws is value font\n",
    "\n",
    "plt.show()"
   ]
  },
  {
   "cell_type": "markdown",
   "metadata": {
    "id": "_7m8sgzHqVsy"
   },
   "source": [
    "**Unsurprising results - the model has trouble differentiating between 'neutral' and 'calm', and between 'disgust' and 'angry'.** \n",
    "\n",
    "If a human were asked to differentiate disgust and anger, getting 49/60 correct and 11/60 wrong wouldn't be too bad (these are the scores for 'disgust' from the above matrix). \n",
    "\n",
    "Other predictable results include confusion of 'sad' for 'disgust'. It's perhaps surprising that 'fearful' is confused for 'happy' as often as it is for 'sad' or 'disgust' - perhaps it is because fear is a truly multifaceted emotion. \n",
    "\n",
    "Based on this, I would compare in finer detail the features of confused emotions and see if there are any differences at all - and how to capture them. For real-world data, it would be much more productive to perform sentiment analysis on the spoken words translated to text, and consider that in our final evaluation. "
   ]
  },
  {
   "cell_type": "markdown",
   "metadata": {
    "id": "xULpTS6h60EK"
   },
   "source": [
    "# Conclusion\n",
    "---------------\n",
    "Advances of the last 5 years involving upgrades to the autoencoder scheme have lead to the RNN, the upgraded LSTM-RNN, bidirectional LSTM-RNNs, and eventually to LSTM-RNNs with Attention layers to give profound temporal expressivity to the latent space of sequentially encoded data. The Transformer has built on this by taking advantage of parallelized self-attention layers to provide an almost truly global temporal representation of sequential data. \n",
    "\n",
    "Today, carefully thought out architecture building on these blocks leads to reasonable training times and excellent generalizability. We combine the CNN for spatial feature representation and the Transformer for temporal feature representation, and  augment the training data by increasing variation in the training dataset to reduce overfitting.\n",
    "\n",
    "CNNs are still the standard for encoding representations of spatial data. A CNN's filters' kernel sizes are important to both performance and accuracy, especially considering recent paradigms using smaller maxpool kernels such as those of the 3x3 strided 1 kernels in [VGGNet](https://arxiv.org/pdf/1409.1556.pdf), in contrast to the 11x11 stride 4 kernels as in the [AlexNet paper](https://papers.nips.cc/paper/4824-imagenet-classification-with-deep-convolutional-neural-networks.pdf).\n",
    "\n",
    "When we added convolutional and transformer layers beyond what was used here, that actually decreased test accuracy. Only as much complexity is warranted as is needed for generalizability. Although CNNs are good for images and transformers for sequential data, recently emerging paradigms (such as in this notebook) show that these networks are perfectly cross-applicable given careful thought. \n",
    "\n",
    "CNNs are powerful. Transformers work beautifully. They're even better together. Gone are the days of the LSTM-RNN.\n",
    "\n",
    "If you got this far, I sincerely appreciate your taking the time to do so. Feel free to drop me a line at ilzenkov@gmail.com with any feedback or questions you may have."
   ]
  },
  {
   "cell_type": "markdown",
   "metadata": {
    "id": "vSGFW0NY60EL"
   },
   "source": [
    "# References \n",
    "--------------\n",
    "- Ba et al, 2016. Layer Normalization. https://arxiv.org/abs/1607.06450\n",
    "- Bahdanau et al, 2015. https://arxiv.org/pdf/1409.0473.pdf\n",
    "- Cheng et al, 2016. Long Short-Term Memory-Networks for Machine Reading. https://arxiv.org/pdf/1601.06733.pdf\n",
    "- He et al, 2015. Deep Residual Learning for Image Recognition. https://arxiv.org/abs/1512.03385\n",
    "- Ioffe, Szegedy, 2015. Batch Normalization: Accelerating Deep Network Training by Reducing Internal Covariate Shift. https://arxiv.org/abs/1502.03167\n",
    "- Krizhevsky et al, 2017. ImageNet Classification with Deep Convolutional Neural Networks. https://papers.nips.cc/paper/4824-imagenet-classification-with-deep-convolutional-neural-networks.pdf\n",
    "- LeCunn et al, 1998. Gradient-Based Learning Applied to Document Recognition. http://yann.lecun.com/exdb/publis/pdf/lecun-01a.pdf\n",
    "- Li et al, 2018. Visualizing the Loss Landscape of Neural Nets. https://papers.nips.cc/paper/7875-visualizing-the-loss-landscape-of-neural-nets.pdf\n",
    "- Masters and Luschi, 2018. Revisiting Small Batch Training for Deep Neural Networks. https://arxiv.org/abs/1804.07612 \n",
    "- Peng et al, 2017. Large Kernel Matters —— Improve Semantic Segmentation by Global Convolutional Network. https://arxiv.org/pdf/1703.02719.pdf\n",
    "- Santurkar et al, 2019. How Does Batch Normalization Help Optimization? https://arxiv.org/pdf/1805.11604.pdf\n",
    "- Simonyan and Zisserman, 2015. Very Deep Convolutional Networks for Large-Scale Image Recognition. https://arxiv.org/pdf/1409.1556.pdf\n",
    "- Srivastava et al, 2014. Dropout: A Simple Way to Prevent Neural Networks from Overfitting. https://www.cs.toronto.edu/~hinton/absps/JMLRdropout.pdf\n",
    "- Ulyanov et al, 2017. Instance Normalization: The Missing Ingredient for Fast Stylization. https://arxiv.org/pdf/1607.08022.pdf\n",
    "- Vaswani et al, 2017. Attention Is All You Need. https://arxiv.org/abs/1706.03762\n",
    "- Wilson et al, 2017. The Marginal Value of Adaptive Gradient Methods in Machine Learning. https://arxiv.org/abs/1705.08292\n",
    "\n",
    "- Christopher Olah's Blog; Neural Networks, Types, and Functional Programming: http://colah.github.io/posts/2015-09-NN-Types-FP/\n",
    "- Lilian Weng's blog on Attention Mechanisms: https://lilianweng.github.io/lil-log/2018/06/24/attention-attention.html\n",
    "- Stanford Autoencoder tutorial: http://ufldl.stanford.edu/tutorial/unsupervised/Autoencoders/\n",
    "- Stanford CNN Tutorial: http://ufldl.stanford.edu/tutorial/supervised/FeatureExtractionUsingConvolution/\n",
    "- Stanford's CS231n: https://cs231n.github.io/convolutional-networks/\n",
    "- U of T CSC2515, Optimization: https://www.cs.toronto.edu/~hinton/csc2515/notes/lec6tutorial.pdf\n"
   ]
  },
  {
   "cell_type": "markdown",
   "metadata": {
    "id": "ChzuFbr160EL"
   },
   "source": [
    "# Appendix A - Convolutional Neural Nets Dissected \n",
    "--------------------------------------\n",
    "### [Back to main section: CNN Motivation](#CNN-Motivation)\n",
    "\n",
    "\n",
    "## Kernels and Filters\n",
    "\n",
    "At the heart of the behaviour of each convoluitional layer is its kernels. Each convolutional layer is made of a certain number of 2D kernels whose dimensions we specify .**A stack of 2D kernels in a layer create the 3D filters defining the operation of that layer on its input feature map (a tensor). Each filter contains a number of weights equal to its size (i.e. depth x height x width).** The kernel's size is a hyperparameter of the convolutional layer; the kernel's receptive field. It is so named because **the kernel's size determines the dimensions of the input feature map it sees during each convoluton.** \n",
    "\n",
    "**Even though complete CNN filters are 3D, they are only moved by their stride length in the H x W dimensions and encompass the entire depth of the feature map over which they operate - so the convolution is actually 2D, hence the nomenclature.**\n",
    "\n",
    "<img src=\"img/convolutional layer stanford.gif\" width=400 height=400 />\n",
    "<center><sub>Visualization of a single 3x3 stride 1 kernel's convolution with a 5x5 feautre map. Figure from Stanford Deep Learning Tutorial: http://ufldl.stanford.edu/tutorial/supervised/FeatureExtractionUsingConvolution/\n",
    "</sub></center>\n",
    "\n",
    "When performing a convolution, we take the products of the kernel's weights with the values of the input feature map and sum them to create a single entry in the output feature map. In this task, the initial input feature map has values describing pixel brightness - in our case, **we have 40x282 \"MFCC pixels\", each pixel representing the intensity in decibels of each of 40 MFC coefficients at each of 282 time points - in other words, we have a 40x282 grayscale image map with just one channel for brightness, which is why a CNN is a first-choice model for the task.**  Each kernel constituting a convolutional layer's filter creates a single 2D feature map - and so **more kernels = larger filters = more 2D feature maps = higher complexity (depth) 3D feature maps, where the # of kernels is specified by a layer's input channel.** If our input feature map has 1 channel and 2D dimensions H x W and we want 16 output channels, we'll have 1 2D kernel in that layer's filter and produce 16 2D feature maps of H x W, or a single 3D 16 x H x W feature map for the entire layer. **A higher output channel dimension creates a larger quantity of output feature maps. This may be beneficial or detrimental w.r.t. overfitting depending on the task.**\n",
    "\n",
    "For every input channel we have one 2D kernel, so when we have multiple input channels we have a collection of 2D kernels making up a 3D filter. Each 2D kernel creates a single 2D contribution to each output channel - so the entire 3D filter creates one entire 3D output channel. In this architecture, and as is standard for stacked CNNs, we expand the complexity of the input feature map in the channel/depth dimension while keeping constant its H x W dimensions. Each 3D filter is passed over the input feature map once for every complete output channel. The number of input channels determines the number of 2D kernels and thus, the *size of all 3D filters* in a layer, while the number of output channels determines *how many 3D filters* are passed over the input feature map - the convolution of all input feature maps with unique 3D filter creates one unique output channel. \n",
    "\n",
    "**To summarize, the input channel dimension determines the *size of all 3D filters* in that layer, while the output channel dimension determines the *number of unique 3D filters* in that layer. Each filter is defined by a unique set of weights, and each filter has its own bias term.**\n",
    "\n",
    "<img src=\"img/filter weights.png\" width=700 height=700 />\n",
    "<center><sub>A collection of 2D kernels makes up a conolutional layer's 3D filters: each filter has a unique set of weights, visualized here. The Kernel size is FxF and Depth is C (Channel dimension). Figure from Stanford's CS230: https://stanford.edu/~shervine/teaching/cs-230/cheatsheet-convolutional-neural-networks\n",
    "</sub></center>\n",
    "\n",
    "<img src=\"img/filter vis.png\" width=400 height=400>\n",
    "<center><sub>Visual of a 3-channel (RGB) 3D filter volume operating on a 3-channel 3D input volume to produce an output 3D volume - depth dependent on number of filters/output-channels of the conv layer.\n",
    "</sub></center>\n",
    "\n",
    "Each filter in a layer learns to produce a high-magnitude activation (after ReLU) when encountering a feature which it has learned to represent. Each filter outputs creates a unique feature map. In performant CNNs, the filters in each convolutional layer are likely to learn a different set of high-level features, in a hierarchical manner of increasing complexity with each subsequent convolutional layer as we expand the channel dimension. The idea behind this paradigm is to create higher-order feature representations akin to the way humans recognize images.\n",
    "\n",
    "Touching on the neuron representation of a CNN, **every element of a 3D output volume can be seen as the activation of a neuron that looks at a small region in the input volume.** Every neuron in a filter shares parameters with all neurons to the left and right of it spatially because the parameters are updated for these neurons by applying that same filter. **In this way, the neurons of a CNN are only locally connected in contrast to the fully connected \"dense\" layer.**\n",
    "\n",
    "**To be succint: A CNN layer transforms a 3D input volume to a 3D output volume of neuron activations. Classification itself is only done by subsequent non-convolutional layers, usually with fully connected linear layers.**\n",
    " \n",
    " \n",
    "## Zero Padding\n",
    "\n",
    "We zero pad the input feature map at the start of each convolutional block, i.e. add a column and row of zeroes to each side of the feature map's (H,W) dimension. **If we don't zero-pad before each convolutional layer then the input feature map is producing only 'valid' convolutions with the filters; after each full convolution the size of the output feature map would reduce by a small amount: The information at the borders will gradually erode.** If a kernel's next stride will set it to be out of bounds of the last column of the (H,W) dimensions of the feature map, that convolution would not be valid; the kernel will proceed (take a step of length==stride) down to the next row. If our kernel sizes is > 1 and stride length is > 1, this means we will completely lose features at the right and bottom edge of our feature map. Zero padding is standard in convolutional layers for kernel sizes > 1, even with a stride of 1 - if we don't pad in this case, corner pixels (features) will only be used once. **Because all convolutional kernels in this network are 3x3 stride 1; I zero-pad 1 to preserve the input dimensions of the feature map at each convolutional layer, i.e. 'same' zero-padding.**\n",
    "\n",
    "\n",
    "## Max Pooling\n",
    "\n",
    "This is where the real magic happens. Maxpool kernels operate on a feature map much like convolutional kernels; however, they perform no multiplication or addition, but rather a simple argmax operation taking the highest valued feature in the maxpool kernel's receptive field; In this way, maxpool layers reduce the dimensions of the feature maps (volumes) upon which they operate. Maxpooling can be equivalently seen as a dimensionality reduction, or down-sampling technique for features spaces. **Ultimately, maxpooling drastically reduces the numer of parameters a network must learn**; there are much fewer connections between subsequent layers than there would be without maxpooling. **Maxpooling is precisely what makes CNNs practical.** \n",
    "\n",
    "Intuitively, maxpooling outputs a feature map that contains only the most important features in each region of an input feature map, and puts these features in context of their position relative to the other most important features. Here's an extremely suitable analogy not far from what happens under the hood: **An eye near a nose near a mouth probably means a face - doesn't matter the position of the eye, it just matters that it's adjacent to the nose, and the nose to the mouth. Because of this paradigm, CNNs are extremely good at recognizing images even when rotated or shifted: that is, CNNs are feature and scale invariant. Note, however, that features themselves learned by CNNs are *not* scale or rotation invariant.** Again, and perhaps even moreso in this way, maxpooling is the absolute core of a CNN. \n",
    "\n",
    "<img src=\"img/maxpool gif.png\" width=500 height=500 />\n",
    "<center><sub>Visualization of a maxpool layer from Stanford's CS230: https://stanford.edu/~shervine/teaching/cs-230/cheatsheet-convolutional-neural-networks\n",
    "</sub></center>\n",
    "\n",
    "**To extend the above to this application: A sharp pitch transition from one mel frequency band to another could represent an angry voice, doesn't matter at what point in time the transition happens (shift invariance). This is precisely what we need to get the generalizability we want.**\n",
    "\n",
    "In this architecture I use non-overlapping maxpool kernels, reducing an input volume by the kernel size: **Using a 2x2 maxpool kernel takes 1/4 pixels in its receptive field, so it reduces the amount of information contained in its output volume by 75%.** The first layer has a 40x282 input volume = 11,280 pixels; after 2x2 maxpooling this becomes a 20x141 output volume = 2,820 pixels. 2,820/11,280 = 1/4. **While the dimensions of the volume are reduced the *dimensions* of the kernel, the total amount of information in the volume is reduced by the *size* of the kernel.**\n",
    "\n",
    "**The typical maxpool kernel on a first convolutional layer in stacked architecture such as AlexNet and GoogLeNet is 2x2 with stride 1.** A higher stride length throws away more information and a smaller stride length retains more, since they will take less or more steps over the input volume depending on their stride length, less so on their size. Some prominent networks (AlexNet, GoogLeNet) use 3x3 kernels with stride length 2 for their maxpooling layers. \n",
    "\n",
    "I optimized the kernel size and stride on the principal of finding a perfect balance between feature retention at each layer of the network and feature reduction to make the model computationally reasonable. **I found that a 2x2 stride 2 non-overlapping maxpool kernel - a 1/4 feature map reduction - was necessary on the input layer to retain a decent balance of features going through subsequent convolutional layers, but thereafter a non-overlapping 8x8, stride 8 kernel - a 1/16 feature map reduction - provided an excellent computation boost on the next 2 layers with little trade-off in accuracy.**\n",
    " \n",
    "**In practice, my final network architecture ended up to be that of VGGNet: 3x3 stride 1 convolutional kernels with 2x2 stride 2 maxpool kernels - with the distinction of 4x4 stride 4 maxpool kernels after the first convolutional layer out of computational necessity - I could not afford 138M parameters :).**\n",
    "\n",
    "\n",
    "## Regularization Using Dropout and a note on Pruning\n",
    "\n",
    "Each entry in a 3D activation map is akin to the activation of a neuron.  **When passing an activation map through a dropout layer, we simply deactivate a number of those neurons (activations); neurons to be dropped are selected from a Bernoulli distribution with probability _p_ to be zeroed (deactivated.** In this network we implement dropout of 30% of features at the end of each 2D convolutional layer after maxpooling the ReLU transformed activation maps. As in section 5.2 of [the dropout paper](https://arxiv.org/abs/1207.0580), the **weights learned in training must be scaled by a factor 1/(1-p) so that the weights are not inflated for those activations that are kept; this is necessary so the same network is performant without dropout on test data.** In essence, we keep the sum of the weights the same when using dropout, so we produce the same expected value of activations  independent of dropout probability - otherwise the activations from the kept neurons would cause incorrect weights to be learned. Dropout is applicable to a wide variety of neural net architectures. Think of it as kind of a \"weight loss\" for your network, pun intended - **making not only for faster training, but also reducing the co-dependence between learned features. Note that we turn off dropout (i.e. we keep all learned neurons) during validation and testing.** \n",
    "\n",
    "<img src=\"img/dropout.GIF\" width=400 height=400 />\n",
    "<center><sub>Dropout in the CNN, from https://arxiv.org/ftp/arxiv/papers/1512/1512.00242.pdf\n",
    "</sub></center>\n",
    "\n",
    "If we were to indeed turn off certain neurons during validation and training, that would no longer be considered dropout - that would be pruning, where we look for and remove all connections with \"dead\" neurons - those with little contribution or otherwise undesirable contributions to the network. When we perform pruning on a network, we would be removing certain clusters of neurons - feature representations, i.e. filters from a CNN. **There's been some recent progress in the field of CNN pruning with some pretty exciting results - for example, a [60% reduction in network parameters with a 0.6% accuracy loss](https://arxiv.org/abs/2001.08142).** I achieved very reasonable training times (~10 mins) so I spent more time on tuning than pruning.\n",
    "\n",
    "\n",
    "## Batch Normalization and Optimizing the Optimization Landsape \n",
    "\n",
    "The distribution of the activation map input to each convolutional layer change as the network is trained because the previous layer's output changes as its parameters are adjusted - the authors of [the batch normalization paper](https://arxiv.org/abs/1502.03167) term this \"internal covariate shift\". Non saturating nonlinearities (such as ReLU) are highly affected by weights of higher magnitude while saturating nonlinearities (sigmoid, tanh) may make a model slower to train. **Because the differential of a saturating nonlinear activation for outputs beyond +-1 approaches 0, the error differential between such outputs also approaches zero, meaning no change to backpropogation for such outputs - i.e. we encounter a variation of the vanishing gradient problem with saturing nonlinear activations.** Batch normalization re-centers the data, making it more likely that activation maps will belong to similar distributions throughout training. More specifically, **batch normalization encourages each layer's neurons to produce outputs closer to the linear regions of their activation**, i.e. attempts to center the activation.\n",
    "\n",
    "As activation map distributions change, the loss surface of the optimizer becomes more volatile; the loss surface is defined for  settings of the weights, which will be updated in unpredictable ways on unstable activation maps. As such, lower learning rates are usually needed to ensure weights are moved in the direction of a more stable negative gradient, otherwise an optimizer is more likely to converge on suboptimal solutions before proper model parameters are learned. **Though input feature maps may be initially scaled to have zero mean and unit variance, once they are output as activations of a subsequent hidden layer different features sets may transform to belong to different distributions.** Proper parameter initialization is also important to consider in avoiding suboptimal convergence.\n",
    "\n",
    "**Batch normalization ultimately results in faster convergence by steering a model away from becoming stuck in a saturated learning regime with a vanishing gradient.** Batch normalization also encourages regularized weights in this way, discouraging exploding gradients and overfitting. This normalization is implemented internally as an aspect of the model's architecture, so the output from each training minibatch is normalized at each layer. Since this mitigates the issue of internal covariate shift, **the network can be initialized with a broader range of parameters and a higher learning rate, and still achieve optimal convergenec.**  \n",
    "\n",
    "The paper shows BN works this empirically instead of with a mathematical proof - which is perhaps why some disagree with the reasoning behind BN: In [How Does Batch Normalization Help Optimization?,](https://arxiv.org/pdf/1805.11604.pdf) the authors argue that the stabilziation of the internal covariate shift is not the main factor behind BN's success, but rather **it is smoothing of the optimizer's loss function landscape that improves performance**. A smoother loss surface creates a more stable direction of the gradient differential between each training step i.e. moving towards a good minima; te gradients are more predictable leading to faster training since we can use higher learning rates when the gradient moves predictably in the direction of a global minima. We would otherwise need more frequent recalculation of the gradient in a region to make sure we move in the right direciton. \n",
    "\n",
    "**In short, the default behaviour of batch norm and as it is implemented in pytorch is essentially applying standard scaling (zero-mean, unit variance) to the tensor's minibatch (H,W) dimension.**  \n",
    "\n",
    "**Although originally BN was not used for validation and testing, as of 2019, an adapted version of BN is applied at both training and test times, improving performance: [Instance Normalization:\n",
    "The Missing Ingredient for Fast Stylization](https://arxiv.org/pdf/1607.08022.pdf)**\n",
    "\n",
    "\n",
    "## ReLU - Non-Saturated Activations are Healthier [for CNNs]\n",
    "\n",
    "We're using ReLU for activation, as is standard in CNNs to avoid saturation of weights - large weights aren't squashed so we  further discourage a vanishing gradient. **This model would take much longer to train with tanh/sigmoid with negligible performance differences.** This is especially important due to the moderate depth of this model, because with a saturating nonlinear activation we would have increasing difficulty trainig subsequent layers. We want a decent amount of layers to learn a higher representation of features, e.g. not just frequency transitions but the shape and magnitude of these transitions with respect to one another. The gradient is usually high if a neuron is activated with ReLU, producing effective successive gradients in the network, while sigmoid and tanh activations produce near-zero gradients for very high magnitude inputs. All in all, ReLU will lead to much faster convergence and for this task produces excellent results. \n",
    "\n",
    "\n",
    "\n",
    "## Turning Feature Maps into Probabilities with a Fully Connected Layer\n",
    "\n",
    "\n",
    "As noted, CNNs cannot perform classification themselves. Regular hidden layers operate only on 1D arrays, while convolutional layers produce 3D activation maps. As such, the entire volume of the 3D activation map is flattened to a 1D array so it can be connected to all input neurons in the next fully connected (FC) layer, thusly termed. Using a fully connected layer at the end of convolutional layers to enable classification is a standard architechture.\n",
    "\n",
    "**In this network, we have an output embedding from each convolutional block of 64x1x8 = 512, and an output embedding from the Transformer block of 1x40. As such, our final flattened embedding will contain 512x2 + 40 == 1064 activations, requiring 1064 input neurons in the fully connected linear layer.**\n",
    "\n",
    "The FC layer produces 8 activation logits based on the concatenated 1D activation map produced by the rest of the network. We need the FC layer in order to combine the high-level features learned by the end result of the convolution filters and the transformer encoder embeddings so that the network can build a global representation of the spectrogram. **While high level features may be present across different classes, a specific combination of these features is what confidently represents an emotion. Another way to see this is the FC layer evaluates which of the high order features learned by the convolution filters is present in the current sample.** \n"
   ]
  },
  {
   "cell_type": "markdown",
   "metadata": {
    "id": "21EQ903M60EM"
   },
   "source": [
    "# Appendix B - The Transformer \n",
    "****************************\n",
    "### [Back to main section: Transformer-Encoder Motivation](#Transformer-Encoder-Motivation) <br>\n",
    "\n",
    "## Self-Attention\n",
    "After the originalk Attention Mechanism was proposed by [Bahdanau et al in 2015](https://arxiv.org/pdf/1409.0473.pdf), Self Attention was first introduced in 2016 as intra-attention in [Long Short-Term Memory-Networks for Machine Reading](https://arxiv.org/pdf/1601.06733). We can learn all we need about self-attention from the Transformer paper. **Scroll past the wall of text to see a block-by-block breakdown of the Transformer with images.**\n",
    "\n",
    "The Transformer, Introduced in [Attention is All you Need](https://arxiv.org/abs/1706.03762) by Vaswani et all in 2017, the Transformer model replaces the seq2seq LSTM-RNN model with intra-attention described above by introducing the self-Attention mechanism as it is used now. **Instead of using LSTM-RNNs with attention layer-aligned context vectors, the Transformer implements multiple self-attention mechanisms and does away completely with LSMT-RNNs for seq2seq tasks.** Here's how:\n",
    "\n",
    "The Transformer architecture encodes an input sequence's context vectors as a set of (K, V) key-value pairs with the same dimension as the input sequence length. **Now, both the keys (inputs) and values (inputs' hidden states) comprise the encoder's hidden states. The output predicted at the previous timestep by the decoder is computed into a \"query\", and the next term in the decoder's output sequence is a mapping from the key-val pairs plus query: (Q,K,V)** Each output term of the decoder is a weighted sum of all values from the (K,V) encoded representation of an input - so, like a regular attention mechanism \n",
    "which decodes a weighted sum of hidden states, but self-attention assigns the (alignment) weights to each value (hidden state) as a sequence-length-scaled dot-product of the query with all the keys. **That is, the weighted sum of all the inputs' hidden states are computed w.r.t. the previous (last) term in the output sequence and the entire input sequence.** This is where the global attention ability of the Transformer originates. \n",
    "\n",
    "**An attempt at clarification: _EACH_ term in the final output sequence depends on _ALL_ terms in the input sequence _AND_ the previous term in the output sequence: Thus, _self_-attention.**\n",
    "\n",
    "<img src=\"img/self-attn-eqn.GIF\" width=300 height=300 />\n",
    "<center><sub>Equation behind the Self-Attention mechanism. From Vaswani et al, 2017. An extremely simple representation of an extremely effective idea. The scaled dot product is just scaling by dimension _n_ of source hidden states for sequence output at timestep _t_. \n",
    "</sub></center>\n",
    "\n",
    "And the result looks like this:\n",
    "\n",
    "<img src=\"img/self-attention.GIF\" width=300 height=300 />\n",
    "<center><sub>Visualization of the global temporal relationships captured by self-attention for text prediction. From Cheng et al, 2016.\n",
    "</sub></center>\n",
    "<img src=\"img/atten mechanism matrix.png\" width=300 height=300 />\n",
    "<center><sub>Another visualization of self-attention, this time for translation. From Bahdanau et al, 2015.\n",
    "</sub></center>\n",
    "\n",
    "\n",
    "## Multi-Head Self-Attention\n",
    "With self-attention in the bag, we can now apply multiple self-attention mechanisms: According to \"Attention is All you Need\", **the scaled dot product self-attention (Q, K, V) is computed over multiple \"representation subspaces\" - so each query, key and value has its own weight matrix associated. In this way, multi-headed (multi-layer) self-attention can compute a term in the output sequence weighted differently according to a region (subspace) of the input sequence.** Intuitively: In the sentence \"I like sour green \\_\\_\\_\", one attention head will learn weights more densely towards the term \"sour\" in the input sequence, and another will learn weights more densely towards \"green\". **Each attention head in multi-headed self-attention still computes a scaled dot product over the entire (K,V) encoded input, just weighted differently w.r.t. the input values.**\n",
    "\n",
    "The output of all the attention heads are concatenated and multiplied with a weight matrix which puts the dimension of the encoded state back to that of a single attention head; then **a single feedforward layer can operate on the encoded latent space regardless of the number of attention heads, and a softmax prediction is computed from a weighted sum of all layers in the multi-headed attention architecture.** The multiheaded attention layers are the meat of the transformer.\n",
    "\n",
    "<img src=\"img/multihead attention.GIF\" width=500 height=500 />\n",
    "<center><sub>Equation behind the Multi-head Self-Attention mechanism. From Vaswani et al, 2017. An almost-intuitive extension of the single-head self-attention mechanism.\n",
    "</sub></center>\n",
    "\n",
    "\n",
    "## Transformer Architecture\n",
    "\n",
    "<br>\n",
    "<center>The full architecture as implemented in 2017 in \"Attention is All You Need\":</center>\n",
    "\n",
    "\n",
    "<img src=\"img/transformer.GIF\" width=900 height=800 />\n",
    "<center><sub>From Vaswani et al, 2017. Each encoder/decoder block is stacked 6 times in the original implementation.\n",
    "</sub></center>\n",
    "<br>\n",
    "Explanation of each component:\n",
    "\n",
    "#### Input\n",
    "- The input embeddings are computed from the input sequence. \n",
    "- The output embeddings are given as the input embedding shifted one timestep (t+1) to the right.\n",
    "- The input embedding given to the transformer produces the (K,V) pairs while the output embedding provides the last predicted term, the query (Q). \n",
    "- The positional encoding in the diagram refers to a (sinusoidal) transformation of the embeddings that preserves relative positions of items in the input/output sequence embeddings. \n",
    "\n",
    "#### Encoder\n",
    "A a stack of 6 identical blocks, each of which is comprised of:\n",
    "- One multihead self-attention layer + a fully connected feedforward layer. \n",
    "- A residual (skip-connection) and a normalization layer after the multihead self-attention.\n",
    "- A residual connection and normalization later after the feedforward layer.\n",
    "- The residual connection adds the original embeddings with those output by the multihead self-attention layer.\n",
    "- The normalization layer is similar to batch normalization (BN), but adapted to sequential inputs and unlike BN, the norm layer is used at test time as well. The norm layer is applied to the combined embeddings from the residual connection.\n",
    "\n",
    "#### Decoder\n",
    "A stack of 6 identical blocks, each of which is comprised of:\n",
    "- Two multihead self-attention layers + one fully connected feedforward layer.\n",
    "- The output embedding given to the decoder is masked (the input embedding shifted to t+1) so we  do not pass any future terms from the input sequence (i.e t+2) to the multi-headed self-attention layers.  \n",
    "- A residual connection and normalization layer after each multihead self-attention layer and after the feedforward layer. \n",
    "\n",
    "#### Output\n",
    "- A final linear and softmax layer are added on to the final output of the decoder block. \n",
    "\n",
    "\n",
    "In sum total, this is the Transformer:\n",
    "- Does away with the optimization issues of the problematic gradents of the errors in the RNN by completely eschewing the RNN because it takes advantage of the attention mechanism.\n",
    "- Uses the attention mechanism to assignsa weight to each hidden state of an input sequence and produce a hidden-state-weighted output at each time step of the output sequence.\n",
    "- Uses the self-attention mechanism which uses the input sequence, all their encoded hidden states, and the previous (last) predicted word in the output sequence - (Q,K,V) - to produce an input-hidden-state-query-weighted output at each time step of the output sequence. \n",
    "- Ensembles self-attention mechanisms to create the multiheaded self-attention mechanism, capable of assigning multiple weights to each (Q, K, V) set of an input sequence \n",
    "- Produces an output which is the softmax of the weighted sum of multiple self-attention layers. \n",
    "- Bells and whistles like 6 stacked encoder/decoder blocks, layer normalization and residual connections"
   ]
  },
  {
   "cell_type": "markdown",
   "metadata": {
    "id": "qjfrP4NN60EM"
   },
   "source": [
    "# Appendix C - From Autoencoders to LSTMs to Attention\n",
    "--------------------\n",
    "## Autoencoders\n",
    "\n",
    "**Understanding the autoencoder - the basis for RNNs and seq2seq models, which the Transformer replaces, will help get a better understanding of the motivation and operations behind the Transformer architecture.**\n",
    "\n",
    "Autoencoders essentially try to learn a function F(weight, bias, X) = X. It's trying to output a sequence similar to the one input. This becomes difficult when we give this task to a network constrained by a limited number of hidden neurons - that is,\n",
    "there isn't a single neuron in the encoder for every data point in X. Therefore, an encoder needs to learn a compressed representation of the inputs it is trained on. For example, Reconstructing a 100-pixel 10x10 image using 50 hidden neurons. \n",
    "For an autoencoder to be effective, there must be structure - correlation - between the points of the data which we wish to process with an autoencoder. The constraint recquiring an encoder to learn a compressed representation is also called the 'bottleneck'.\n",
    "\n",
    "<img src=\"img/autoencoder.png\" width=png height=650 />\n",
    "<center><sub>Standard/Vanilla Autoencoder, figure by Deepak Birla: https://medium.com/@birla.deepak26/autoencoders-76bb49ae6a8f</sub></center>\n",
    "\n",
    "Autoencoders are in fact quite similar to PCA which, in a way, encodes the structure of data it operates upon by computing eigenvectors of a covariance matrix such that projecting points along the principal component axes produces vectors encoding the greatest amount of variance (information) in fewer dimensions than available in the input data. In contrast to the autoencoder, the components produced by PCA are linear combinations of the original data. This has the advantage of producing fast and interpretable transformations, but the disadvantage of being incapable of encoding nonlinear relationships between features. **In this sense, an autoencoder is sort of an upgraded PCA - it too can perform dimensionality reuidction, but with the added ability to learn nonlinear representations of features - at the sacrifice of interpretability and computational efficiency.\n",
    "\n",
    "\n",
    "## The Sparse Autoencoder\n",
    "\n",
    "Sparse autoencoders extend the constraints of encoding beyond number of hidden neurons - we may choose more hidden neurons than input data points, instead imposing the sparsity constraint, adding an extra penalty term to our loss function. We parameterize the penalty term with a sparsity parameter close to 0 for ReLU and sigmoid activations,  close to -1 for tanh: i.e. inactive. I'll refer to 0 as an inactive neuron herein. **The objective of sparse autoencoding is to force the average activation of all hidden neurons to be lower than the sparsity parameter: most neurons in the hidden layer will not activate for any given set of features.**\n",
    "\n",
    "The sparsity constraint or, penalty term, whichever way we refer to it, is the Kullback-Leibler (KL) divergence: a function \n",
    "which computes the divergence between two Bernoulli random variables, i.e. in a distribution of 0 or 1. **A KL divergence penalty, the regularization term of an autoencoder, blows up when the average activation of hidden neurons in a particular layer are not near the penalty constraint _p_ - and so the average activation of the hidden layer is forced to be neither 0 nor 1, but close to _p=~0_, e.g. 0.05.**\n",
    "\n",
    "The decoder layers of sparse autoencoders are trained with a loss function  - the \"reconstruction term\" - which optimizes the precise reconstruction of an input, usually with mean square (MSE) loss. Ultimately, the result is that unless a neuron's activation on a particular set of input features seriously blows up the loss for the resulting reconstruction, then that neuron will be parameterized to reduce its activation to 0 for that input. **A sparse autoencoder's neuron will only learn a high activation on an input feature set if it is critical to accuracy of the model.** As such, a model benefits from sparse autoencoding in that each neuron of the hidden layer activates if, and only if it is given as input the precise feature which it has learned to represent. This has the inherent benefit of harshly penalizing overfit models. \n",
    "\n",
    "\n",
    "## The Variational Autoencoder, Decoders, and Latent Space\n",
    "\n",
    "The vanilla autoencoder computes a feature representation called the latent space, in analogy to the principal components of PCA. Once an input feature set is encoded into a latent space, several more hidden layers called **decoder layers have the objective to reconstruct the input feature set from the encoded latent space.** \n",
    "\n",
    "Since autoencoders seek to produce outputs similar to their inputs, autoencoders are a flavour of generative model - although **vanilla autoencoders cannot generate output they have never seen. Variational autoencoders (VAEs) are more appropriate to that task. In contrast to a single point in the latent space encoded by a vanilla autoencoder, VAEs instead compute a distribution of the latent space of their input.** We can then sample points from an input's latent space distribution to truly generate new output data.\n",
    "\n",
    "<img src=\"img/VAE.GIF\" width=650 height=650 />\n",
    "<center><sub>Variational Autoencoder, figure by Katsunori Ohnishi: http://katsunoriohnishi.github.io/</sub></center>\n",
    "\n",
    "Similar to the sparse autoencoder, we have the **KL divergence in the latent (encoding) layer(s),\n",
    "now constraining  the latent representation to be close to standard normal distributions, and the reconstruction term on decoding layers minimizing the distance (intuitively, information loss) between a reconstruction and an input, where the reconstruction is now computed by random sampling from an input's latent space distributon** - which is why we needed a normally distributed latent space in the first place.\n",
    "\n",
    "If we had not imposed a regularization term on a VAE's encoder layers, it would ultimately learn to minimize the decoder layer's reconstruction term by simply encoding distributions of near-zero variance and/or very different means - essentially, encoding points in the latent space - and the VAE degenerates to the vanilla autoencoder. **Enforcing a standard normally distributed latent space regularizes the mean and covariance matrix of distributions in the encoded latent space, avoiding overfitting to an input as the vanilla autoencoder is trained to do.**\n",
    "\n",
    "\n",
    "## The RNN, Seq2Seq, and Gradient Problems\n",
    "\n",
    "The encoder-decoder paradigm, in practice is implemented as recurrent neural networks (RNNs), commonly with long-short-term-memory (LSTM) cells to deal with the vanishing/exploding gradient problem - this is the modern squence-to-sequence (seq2seq) model. The seq2seq model usually employs an LSTM-RNN network to encode a variable length input sequence into a vector latent space representation, and an LSTM-RNN to decode that vector into a variable length output sequence. \n",
    "\n",
    "RNNs encode a hidden state for each input of a given sequence. A node (or neuron) in the RNN takes each input in the sequence, adds it to the hidden state computed from the input before it, and computes a new hidden state through an activation function such as tanh. This process is repeated for all time steps for a given sequence, so the hidden state of each time step is computed on the aggregated hidden states of inputs before it. Only the last neuron's aggregated hidden state is passed to the decoding network.\n",
    "\n",
    "<img src=\"img/rnn.jpg\" width=500 height=500 />\n",
    "<center><sub>The backprop through time constitutes the gradient problem with the RNN. Figure by Chengwei: https://www.dlology.com/blog/how-to-deal-with-vanishingexploding-gradients-in-keras/</sub></center>\n",
    "\n",
    "**The issue in this structure is that we can only calculate error for the final neuron's output - so each neurons' error depends on neurons at all time steps ahead of it. The of the final neuron must be backpropogated to all neurons in the same layer, not just to neurons in previous layers.** If the error of the final neuron is small (<1), it will become increasingly smaller and \"vanish\" as it is backpropogated multiplicatively at each time step. Similarly for a large error (>1), it will become increasingly large and \"explode\". **The RNN network will either not learn, or will take forever to learn - \n",
    "or not all of the weights will get updated.**  \n",
    "\n",
    "\n",
    "## The LSTM Cell \n",
    "One mechanism to alleviate the gradient problems of an RNN is the long short term memory (LSTM) cell. Intuitively, the LSTM\n",
    "cell is added to each node/neuron/time-step of an RNN and 'forgets' or 'remembers' hidden states - in essence, bypassing certain neurons in a sequence of time steps. An LSTM cell boils down to a combination of switch gates on each neuron - allowing a node in an RNN to remove or add information to the node, but often allowing information to flow through unchanged.\n",
    "<img src=\"img/LSTM.png\" width=400 height=400 />\n",
    "<center><sub>LSTM Cell from Christopher Olah's blog: https://colah.github.io/</sub></center>\n",
    "\n",
    "\n",
    "\n",
    "<img src=\"img/LSTM.jpg\" width=400 height=400 />\n",
    "<center><sub>Inner workings of an LSTM cell. Source: https://blog.floydhub.com/long-short-term-memory-from-zero-to-hero-with-pytorch/</sub></center>\n",
    "\n",
    "In the above figure, the input _x_ flows through 5 gates: 1 forget, 2 input, and 2 output gates. **Note that each gate has weights which are learned through backpropogation: Each LSTM cell learns its own weight matrix. Each LSTM cell takes as input C<sub>t-1</sub>, previous cell's long term memory, and H<sub>t-1</sub>, previous cell's short-term memory (classical RNN hidden state). Each LSTM cell outputs long-term memory C<sub>t</sub> and short-term memory H<sub>t</sub>.** \n",
    "\n",
    "- **1 forget gate (left, sigmoid): Decides which information from the long-term memory is discarded.** Takes product of long term memory from previous LSTM cell C<sub>t-1</sub> with the forget vector; The forget vector is generated when the current input x<sub>t</sub> and previous cell's hidden state H<sub>t-1</sub> (short-term memory) are added and passed through a sigmoid activation gate:  \n",
    "    - 1) f<sub>vector</sub> = σ(W<sub>forget</sub>⋅(H<sub>t−1</sub>,x<sub>t</sub>) + bias<sub>forget</sub>)\n",
    "    - C<sub>t</sub> = C<sub>t−1</sub>∗f<sub>forget</sub>+i<sub>input</sub>: Computes the new long-term memory C<sub>t</sub>.\n",
    "- **2 Input gates (center, sigmoid+tanh): Encodes new information into the LSTM cell's running long term memory.** The hidden state from the previous cell H<sub>t-1</sub> (short-term memory) and the input to the current cell x<sub>t</sub> are passed through two gates:  \n",
    "    - 1) i<sub>1</sub> = σ(W<sub>i1</sub>⋅(H<sub>t−1</sub>,x<sub>t</sub>) + bias<sub>i1</sub>): A sigmoid activation gate maps unimportant features to 0, discarding them, and computes i<sub>1</sub>: \n",
    "    - 2) i<sub>2</sub> = tanh(W<sub>i2</sub>⋅(H<sub>t−1</sub>,x<sub>t</sub>) + bias<sub>i2</sub>): A tanh activation gate operates on previous short-term memory H<sub>t-1</sub> and current input x<sub>t</sub> to compute i<sub>2</sub>.   \n",
    "    - i<sub>input</sub> = i<sub>1</sub>∗i<sub>2</sub>: The product i<sub>input</sub> is added to the LSTM cell's long-term memory C<sub>t</sub> by the output gate.  \n",
    "\n",
    "- **2 Output gates (right, sigmoid+tanh): Encodes the new short-term memory (hidden state).** \n",
    "    - 1) O<sub>1</sub> = σ(W<sub>output1</sub>⋅(H<sub>t−1</sub>,x<sub>t</sub>)+bias<sub>output1</sub>): Sigmoid gate takes hidden state from the previous cell H<sub>t-1</sub> (short-term memory) and the input to the current cell x<sub>t</sub>. \n",
    "    - 2) O<sub>2</sub> = tanh(W<sub>output2</sub>⋅C<sub>t</sub>+bias<sub>output2</sub>): tanh gate takes the new long term memory computed by this cell's input gate.\n",
    "    - H<sub>t</sub>,O<sub>t</sub> = O<sub>1</sub>∗O<sub>2</sub>: new short-term memory which is the current cell's output, is the product of O<sub>1</sub> and O<sub>2</sub>.  \n",
    "\n",
    "**The above LSTM cell architecture is added to all nodes/neurons in a traditional RNN. The above process is repeated in each and very LSTM cell. The long-term memory C<sub>t</sub> is a matrix running through all cells, while the short-term memory H<sub>t</sub> is the encoded hidden state output at each time step.**\n",
    "\n",
    "## Bidirectional RNN\n",
    "Yet another optimization on top of the LSTM-RNN is to make it bidirectional: we stack two RNNs together, where the input sequence flows forward through one RNN and backward through the other. Each node/neuron in the RNN contgains an LSTM cell. **At each time step the input is given simultaneously to two RNN neurons running opposite directions to eachother.** Each RNN aggregates its own hidden states, one forward and one in reverse. The hidden states are not shared between the two networks of a bidirectional RNN, but rather after the entire input sequence is consumed, the final hidden state of both the forward and reverse RNN is combined and then passed to the decoder network. \n",
    "\n",
    "<img src=\"img/bidirectional RNN colah.png\" width=500 height=500 />\n",
    "<center><sub>Bidirectional RNN from Christopher Olah's blog: https://colah.github.io/</sub></center>\n",
    "\n",
    "However, we still have a sequence of neurons to which we must backpropogate errors. Enter the Attention mechanism: \n",
    "\n",
    "\n",
    "## The Attention Mechanism\n",
    "Introduced by Bahdanau et al in 2015 in their paper [Neural Machine Translation by Jointly Learning to Align and Translate](https://arxiv.org/abs/1409.0473). **The attention mechanism introduces weights between all hidden states of an encoder RNN and the original input sequence using an attention layer, a simple feedforward network.** The attention layer uses \"alignment weights\" to compute the contribution of each input's hidden state to the final hidden state - also known as the context vector in the attention mechanism - which is then passed to the decoder network. For each term predicted by the decoder for the output sequence, the attention layer computes a probability distribution over all hidden states of the input. **In other words, each term in the output sequence is computed from a unique context vector from the distribution computed by the attention layer. Each context vector is an alignment-weighted sum of hidden states computed by an LSTM-RNN from an input sequence.**\n",
    "\n",
    "The attention layer is in contrast to a regular encoder-decoder RNN pair, which only uses one hidden state to generate the decoder's entire output sequence and just one hiddden state to backpropogate error. **The attention layer uses all hidden states to propogate error to all neurons of the encoder-decoder RNN simultaneously.**\n",
    "\n",
    "<img src=\"img/encoder-decoder-attention.png\" width=600 height=600 />\n",
    "<center><sub>From Bahdanau et al, 2015. The complete attention mechanism: Birectional RNN encoder-decoder pair with self-attention layer in between to compute a weighted context vector from all hidden states.\n",
    "</sub></center>\n",
    " \n",
    "In a sense, the attention mechanism is kind of like ResNet's skip connections: instead, we skip the contribution of neurons in an RNN layer. The skip, or shortcut connections in an attention layer are those between individual hidden states and the final context vector."
   ]
  },
  {
   "cell_type": "markdown",
   "metadata": {
    "id": "Leyh5aMQ60EN"
   },
   "source": [
    "# Appendix D - Supplementary Notes\n",
    "------------------------------------\n",
    "\n",
    "## More CNN Kernel/Filter Math\n",
    "\n",
    "I'm going to refer to feature maps as an input/output volume interchangeably here. We concatenate the 2D volume produced by each kernel to create the 3D volume produced by the filter composed of those kernels. Let's ignore maxpooling to understand the impact of channel dimensions: In the first layer of this network, a 1x40x282 input volume becomes a 16x40x282 output volume which is fed into the next convolutional layer with a 32-kernel filter, producing a 32x40x282 output volume. The 3rd and final layer has a 64-kernel filter and produces a 64x40x282 output volume. Each kernel learns weights for the convolution it produces, so each filter is a set of depth x height x width weights - for example, the final layer contains 32-kernel filters, and it produces 64 such filters to satisfy its output volume of  64x40x282.\n",
    "\n",
    "The total number of 2D kernels in each layer = input_channel x output_channels. In this architecture, each convolutional block has 3 layers: First with 1x16=16 2D kernels, second with 16x32 = 512 2D kernels, 3rd with 32x64 = 2048 2D kernels. The size of all kernels in all layers in both convolutional blocks are 3x3 with stride 1 in this architecture. \n",
    "\n",
    "## Smoothing the Optimization Surface\n",
    "\n",
    "Apart from batch normalization, other methods for taming optimization surface include skip connections, where a layer's outputs skip some of its subsequent layers - so implemented by the extremely successful ResNet (residiual network) architechture - taking inspiration from certain cells in the cerebral cortex. Such skip connections require a weight matrix of their own to be effective if skipping over more than one nonlinear layer. Local minima worse than the global minima become shallower, i.e. their depth decreases and this eliminates \"bad\" local minima in the loss landsacpe. \n",
    "\n",
    "The loss landsacpe is formed by the loss function over the training samples and training weights. Due to the high parameterization of neural networks the visual representation of the loss landscape is not very intuitive without transformation. To this end, there are [specific techniques for loss landsacpe visualization](https://papers.nips.cc/paper/7875-visualizing-the-loss-landscape-of-neural-nets.pdf). \n",
    "\n",
    "<img src=\"img/optimization landscape.GIF\" width=800 height=800 />\n",
    "<center><sub>From Li et al, 2018. A visualization of an unruly (left) optimization landscape, and tamed (right).\n",
    "</sub></center>\n",
    "\n",
    "Smoothing the optimization surface: The depth of the loss function ultimately determines the degree of change weights will undergo due to the gradient. Deeper loss surfaces allows more flexibility in a model - for CNNs, that means the ability to learn higher level features built on outputs of previous layers, though but at the same time high-depth optimization landscape encourage overfitting to noise. In contrast, width smooths the optimization landscape and eliminates many bad local minima. We seek to find a balance in the width and depth of the optimization surface and ultimately make it as close to a convex function as possible."
   ]
  }
 ],
 "metadata": {
  "accelerator": "GPU",
  "colab": {
   "collapsed_sections": [],
   "name": "Parallel_is_all_you_want.ipynb",
   "provenance": []
  },
  "kernelspec": {
   "display_name": "pytorch-env",
   "language": "python",
   "name": "pytorch-env"
  },
  "language_info": {
   "codemirror_mode": {
    "name": "ipython",
    "version": 3
   },
   "file_extension": ".py",
   "mimetype": "text/x-python",
   "name": "python",
   "nbconvert_exporter": "python",
   "pygments_lexer": "ipython3",
   "version": "3.12.2"
  }
 },
 "nbformat": 4,
 "nbformat_minor": 4
}
